{
 "cells": [
  {
   "cell_type": "markdown",
   "metadata": {},
   "source": [
    "# Group Data Challenge"
   ]
  },
  {
   "cell_type": "markdown",
   "metadata": {},
   "source": [
    "### Webscraping - Competitors"
   ]
  },
  {
   "cell_type": "code",
   "execution_count": 4,
   "metadata": {
    "tags": []
   },
   "outputs": [],
   "source": [
    "import requests\n",
    "import pandas as pd\n",
    "import numpy as np\n",
    "from bs4 import BeautifulSoup\n",
    "from time import sleep\n",
    "from datetime import datetime\n",
    "\n",
    "# import yaml\n",
    "from selenium import webdriver\n",
    "from selenium.webdriver.common.keys import Keys\n",
    "from selenium.webdriver.support.ui import WebDriverWait\n",
    "from selenium.webdriver.common.action_chains import ActionChains\n",
    "from selenium.webdriver.support import expected_conditions as EC\n",
    "from selenium.webdriver.common.by import By\n",
    "from selenium.common.exceptions import NoSuchElementException\n",
    "import selenium\n",
    "\n",
    "pd.set_option(\"display.max_rows\", 500)\n",
    "%load_ext lab_black"
   ]
  },
  {
   "cell_type": "code",
   "execution_count": 3,
   "metadata": {
    "tags": []
   },
   "outputs": [
    {
     "name": "stdout",
     "output_type": "stream",
     "text": [
      "Collecting selenium\n",
      "  Downloading selenium-4.9.1-py3-none-any.whl (6.6 MB)\n",
      "     ---------------------------------------- 0.0/6.6 MB ? eta -:--:--\n",
      "      --------------------------------------- 0.1/6.6 MB 3.3 MB/s eta 0:00:02\n",
      "     - -------------------------------------- 0.3/6.6 MB 3.1 MB/s eta 0:00:03\n",
      "     ---- ----------------------------------- 0.8/6.6 MB 6.1 MB/s eta 0:00:01\n",
      "     ------- -------------------------------- 1.2/6.6 MB 7.1 MB/s eta 0:00:01\n",
      "     ------------ --------------------------- 2.0/6.6 MB 9.3 MB/s eta 0:00:01\n",
      "     ---------------- ----------------------- 2.8/6.6 MB 9.8 MB/s eta 0:00:01\n",
      "     ---------------------- ----------------- 3.8/6.6 MB 11.4 MB/s eta 0:00:01\n",
      "     --------------------------- ------------ 4.6/6.6 MB 12.7 MB/s eta 0:00:01\n",
      "     --------------------------------- ------ 5.5/6.6 MB 13.5 MB/s eta 0:00:01\n",
      "     ----------------------------------- ---- 5.8/6.6 MB 12.8 MB/s eta 0:00:01\n",
      "     ----------------------------------- ---- 5.8/6.6 MB 11.7 MB/s eta 0:00:01\n",
      "     -------------------------------------- - 6.3/6.6 MB 11.1 MB/s eta 0:00:01\n",
      "     ---------------------------------------  6.5/6.6 MB 11.3 MB/s eta 0:00:01\n",
      "     ---------------------------------------- 6.6/6.6 MB 10.7 MB/s eta 0:00:00\n",
      "Collecting trio~=0.17\n",
      "  Downloading trio-0.22.0-py3-none-any.whl (384 kB)\n",
      "     ---------------------------------------- 0.0/384.9 kB ? eta -:--:--\n",
      "     ------------------------------------- 384.9/384.9 kB 25.0 MB/s eta 0:00:00\n",
      "Requirement already satisfied: certifi>=2021.10.8 in d:\\anaconda\\envs\\ds_toolkit\\lib\\site-packages (from selenium) (2023.5.7)\n",
      "Requirement already satisfied: urllib3[socks]<3,>=1.26 in d:\\anaconda\\envs\\ds_toolkit\\lib\\site-packages (from selenium) (1.26.15)\n",
      "Collecting trio-websocket~=0.9\n",
      "  Downloading trio_websocket-0.10.2-py3-none-any.whl (17 kB)\n",
      "Requirement already satisfied: sniffio in d:\\anaconda\\envs\\ds_toolkit\\lib\\site-packages (from trio~=0.17->selenium) (1.3.0)\n",
      "Collecting async-generator>=1.9\n",
      "  Downloading async_generator-1.10-py3-none-any.whl (18 kB)\n",
      "Collecting sortedcontainers\n",
      "  Downloading sortedcontainers-2.4.0-py2.py3-none-any.whl (29 kB)\n",
      "Requirement already satisfied: idna in d:\\anaconda\\envs\\ds_toolkit\\lib\\site-packages (from trio~=0.17->selenium) (3.4)\n",
      "Requirement already satisfied: attrs>=19.2.0 in d:\\anaconda\\envs\\ds_toolkit\\lib\\site-packages (from trio~=0.17->selenium) (23.1.0)\n",
      "Collecting outcome\n",
      "  Downloading outcome-1.2.0-py2.py3-none-any.whl (9.7 kB)\n",
      "Collecting exceptiongroup>=1.0.0rc9\n",
      "  Downloading exceptiongroup-1.1.1-py3-none-any.whl (14 kB)\n",
      "Requirement already satisfied: cffi>=1.14 in d:\\anaconda\\envs\\ds_toolkit\\lib\\site-packages (from trio~=0.17->selenium) (1.15.1)\n",
      "Collecting wsproto>=0.14\n",
      "  Downloading wsproto-1.2.0-py3-none-any.whl (24 kB)\n",
      "Requirement already satisfied: PySocks!=1.5.7,<2.0,>=1.5.6 in d:\\anaconda\\envs\\ds_toolkit\\lib\\site-packages (from urllib3[socks]<3,>=1.26->selenium) (1.7.1)\n",
      "Requirement already satisfied: pycparser in d:\\anaconda\\envs\\ds_toolkit\\lib\\site-packages (from cffi>=1.14->trio~=0.17->selenium) (2.21)\n",
      "Collecting h11<1,>=0.9.0\n",
      "  Downloading h11-0.14.0-py3-none-any.whl (58 kB)\n",
      "     ---------------------------------------- 0.0/58.3 kB ? eta -:--:--\n",
      "     ---------------------------------------- 58.3/58.3 kB 3.0 MB/s eta 0:00:00\n",
      "Installing collected packages: sortedcontainers, outcome, h11, exceptiongroup, async-generator, wsproto, trio, trio-websocket, selenium\n",
      "Successfully installed async-generator-1.10 exceptiongroup-1.1.1 h11-0.14.0 outcome-1.2.0 selenium-4.9.1 sortedcontainers-2.4.0 trio-0.22.0 trio-websocket-0.10.2 wsproto-1.2.0\n",
      "Note: you may need to restart the kernel to use updated packages.\n"
     ]
    }
   ],
   "source": [
    "pip install selenium"
   ]
  },
  {
   "cell_type": "code",
   "execution_count": 6,
   "metadata": {
    "tags": []
   },
   "outputs": [
    {
     "name": "stdout",
     "output_type": "stream",
     "text": [
      "Standorte & Öffnungszeiten | coop.ch\n"
     ]
    }
   ],
   "source": [
    "from selenium import webdriver\n",
    "from selenium.webdriver.common.by import By\n",
    "from selenium.webdriver.common.keys import Keys\n",
    "from selenium.webdriver.support.ui import WebDriverWait\n",
    "\n",
    "driver = webdriver.Chrome()  # (\"./chromedriver\")\n",
    "\n",
    "# load the page\n",
    "driver.get(\"https://www.coop.ch/de/store-finder/\")\n",
    "sleep(2)\n",
    "print(driver.title)\n",
    "\n",
    "# type in and send the keywords\n",
    "search_bar = driver.find_element(By.ID, \"placeFinder-search__field\")\n",
    "search_bar.send_keys(\"Zürich, Switzerland\")\n",
    "\n",
    "# submit search\n",
    "search_bar = driver.find_element(By.CLASS_NAME, \"placeFinder-search__btn\")\n",
    "sleep(2)\n",
    "search_bar.click()\n",
    "\n",
    "# expand results\n",
    "search_bar = driver.find_element(By.CLASS_NAME, \"placeFinder-list__container-trigger\")\n",
    "for nCntr in range(20):\n",
    "    # scraping = True\n",
    "    # while scraping == True:\n",
    "    #    try:\n",
    "    sleep(3)\n",
    "    search_bar.click()\n",
    "#    except:\n",
    "#        scraping = False\n",
    "\n",
    "soup = BeautifulSoup(driver.page_source, \"html.parser\")"
   ]
  },
  {
   "cell_type": "code",
   "execution_count": null,
   "metadata": {
    "tags": []
   },
   "outputs": [],
   "source": [
    "# extract and format results\n",
    "import re\n",
    "\n",
    "result = soup.find_all(\"span\", {\"placeFinder-tile__place-address\"})\n",
    "print(result[0]\n",
    "zipcodes = re.findall(\"(\\d+)\", str(result))\n",
    "zipcodes = pd.DataFrame(zipcodes)\n",
    "zipcodes = zipcodes.rename(columns={0: \"plz\"})\n",
    "print(zipcodes)\n",
    "zipcodes[\"plz\"] = zipcodes.plz.astype(\"int\")\n",
    "zipcodes = zipcodes[zipcodes[\"plz\"] > 999]\n",
    "zipcodes.value_counts()"
   ]
  },
  {
   "cell_type": "code",
   "execution_count": 13,
   "metadata": {
    "tags": []
   },
   "outputs": [
    {
     "name": "stdout",
     "output_type": "stream",
     "text": [
      "[<span class=\"placeFinder-tile__place-address\" data-placefinder-tile__address=\"\">Bahnhofbrücke 1, 8001 Zürich</span>, <span class=\"placeFinder-tile__place-address\" data-placefinder-tile__address=\"\">Halle Löwenstrasse, 8021 Zürich</span>, <span class=\"placeFinder-tile__place-address\" data-placefinder-tile__address=\"\">Europaallee 5, 8001 Zürich</span>, <span class=\"placeFinder-tile__place-address\" data-placefinder-tile__address=\"\">Bahnhofstrasse 57, 8001 Zürich</span>, <span class=\"placeFinder-tile__place-address\" data-placefinder-tile__address=\"\">Zollstrasse 42, 8005 Zürich</span>, <span class=\"placeFinder-tile__place-address\" data-placefinder-tile__address=\"\">Universitätstrasse 73, 8006 Zürich</span>, <span class=\"placeFinder-tile__place-address\" data-placefinder-tile__address=\"\">Bärengasse 16, 8001 Zürich</span>, <span class=\"placeFinder-tile__place-address\" data-placefinder-tile__address=\"\">Universitätstrasse 101, 8006 Zürich</span>]\n"
     ]
    }
   ],
   "source": [
    "print(result[0:8])"
   ]
  },
  {
   "cell_type": "code",
   "execution_count": 152,
   "metadata": {},
   "outputs": [],
   "source": [
    "zipcodes.value_counts().to_csv(\"coop_shops.csv\")"
   ]
  },
  {
   "cell_type": "code",
   "execution_count": null,
   "metadata": {},
   "outputs": [],
   "source": [
    "https://filialen.migros.ch/de/"
   ]
  },
  {
   "cell_type": "code",
   "execution_count": 15,
   "metadata": {
    "tags": []
   },
   "outputs": [
    {
     "name": "stdout",
     "output_type": "stream",
     "text": [
      "<selenium.webdriver.chrome.webdriver.WebDriver (session=\"defd16f0f2e679b10348b261e5472592\")>\n"
     ]
    },
    {
     "ename": "NoSuchElementException",
     "evalue": "Message: no such element: Unable to locate element: {\"method\":\"css selector\",\"selector\":\"[id=\"placeFinder-search__field\"]\"}\n  (Session info: chrome=113.0.5672.127)\nStacktrace:\nBacktrace:\n\tGetHandleVerifier [0x01088893+48451]\n\t(No symbol) [0x0101B8A1]\n\t(No symbol) [0x00F25058]\n\t(No symbol) [0x00F50467]\n\t(No symbol) [0x00F5069B]\n\t(No symbol) [0x00F7DD92]\n\t(No symbol) [0x00F6A304]\n\t(No symbol) [0x00F7C482]\n\t(No symbol) [0x00F6A0B6]\n\t(No symbol) [0x00F47E08]\n\t(No symbol) [0x00F48F2D]\n\tGetHandleVerifier [0x012E8E3A+2540266]\n\tGetHandleVerifier [0x01328959+2801161]\n\tGetHandleVerifier [0x0132295C+2776588]\n\tGetHandleVerifier [0x01112280+612144]\n\t(No symbol) [0x01024F6C]\n\t(No symbol) [0x010211D8]\n\t(No symbol) [0x010212BB]\n\t(No symbol) [0x01014857]\n\tBaseThreadInitThunk [0x76477D59+25]\n\tRtlInitializeExceptionChain [0x7745B74B+107]\n\tRtlClearBits [0x7745B6CF+191]\n",
     "output_type": "error",
     "traceback": [
      "\u001b[1;31m---------------------------------------------------------------------------\u001b[0m",
      "\u001b[1;31mNoSuchElementException\u001b[0m                    Traceback (most recent call last)",
      "Cell \u001b[1;32mIn[15], line 9\u001b[0m\n\u001b[0;32m      6\u001b[0m \u001b[38;5;28mprint\u001b[39m(driver)\n\u001b[0;32m      8\u001b[0m \u001b[38;5;66;03m# type in and send the keywords\u001b[39;00m\n\u001b[1;32m----> 9\u001b[0m search_bar \u001b[38;5;241m=\u001b[39m \u001b[43mdriver\u001b[49m\u001b[38;5;241;43m.\u001b[39;49m\u001b[43mfind_element\u001b[49m\u001b[43m(\u001b[49m\u001b[43mBy\u001b[49m\u001b[38;5;241;43m.\u001b[39;49m\u001b[43mID\u001b[49m\u001b[43m,\u001b[49m\u001b[43m \u001b[49m\u001b[38;5;124;43m\"\u001b[39;49m\u001b[38;5;124;43mplaceFinder-search__field\u001b[39;49m\u001b[38;5;124;43m\"\u001b[39;49m\u001b[43m)\u001b[49m\n\u001b[0;32m     10\u001b[0m search_bar\u001b[38;5;241m.\u001b[39msend_keys(\u001b[38;5;124m\"\u001b[39m\u001b[38;5;124mZürich, Switzerland\u001b[39m\u001b[38;5;124m\"\u001b[39m)\n\u001b[0;32m     12\u001b[0m \u001b[38;5;66;03m# submit search\u001b[39;00m\n",
      "File \u001b[1;32mD:\\Anaconda\\envs\\ds_toolkit\\lib\\site-packages\\selenium\\webdriver\\remote\\webdriver.py:831\u001b[0m, in \u001b[0;36mWebDriver.find_element\u001b[1;34m(self, by, value)\u001b[0m\n\u001b[0;32m    828\u001b[0m     by \u001b[38;5;241m=\u001b[39m By\u001b[38;5;241m.\u001b[39mCSS_SELECTOR\n\u001b[0;32m    829\u001b[0m     value \u001b[38;5;241m=\u001b[39m \u001b[38;5;124mf\u001b[39m\u001b[38;5;124m'\u001b[39m\u001b[38;5;124m[name=\u001b[39m\u001b[38;5;124m\"\u001b[39m\u001b[38;5;132;01m{\u001b[39;00mvalue\u001b[38;5;132;01m}\u001b[39;00m\u001b[38;5;124m\"\u001b[39m\u001b[38;5;124m]\u001b[39m\u001b[38;5;124m'\u001b[39m\n\u001b[1;32m--> 831\u001b[0m \u001b[38;5;28;01mreturn\u001b[39;00m \u001b[38;5;28;43mself\u001b[39;49m\u001b[38;5;241;43m.\u001b[39;49m\u001b[43mexecute\u001b[49m\u001b[43m(\u001b[49m\u001b[43mCommand\u001b[49m\u001b[38;5;241;43m.\u001b[39;49m\u001b[43mFIND_ELEMENT\u001b[49m\u001b[43m,\u001b[49m\u001b[43m \u001b[49m\u001b[43m{\u001b[49m\u001b[38;5;124;43m\"\u001b[39;49m\u001b[38;5;124;43musing\u001b[39;49m\u001b[38;5;124;43m\"\u001b[39;49m\u001b[43m:\u001b[49m\u001b[43m \u001b[49m\u001b[43mby\u001b[49m\u001b[43m,\u001b[49m\u001b[43m \u001b[49m\u001b[38;5;124;43m\"\u001b[39;49m\u001b[38;5;124;43mvalue\u001b[39;49m\u001b[38;5;124;43m\"\u001b[39;49m\u001b[43m:\u001b[49m\u001b[43m \u001b[49m\u001b[43mvalue\u001b[49m\u001b[43m}\u001b[49m\u001b[43m)\u001b[49m[\u001b[38;5;124m\"\u001b[39m\u001b[38;5;124mvalue\u001b[39m\u001b[38;5;124m\"\u001b[39m]\n",
      "File \u001b[1;32mD:\\Anaconda\\envs\\ds_toolkit\\lib\\site-packages\\selenium\\webdriver\\remote\\webdriver.py:440\u001b[0m, in \u001b[0;36mWebDriver.execute\u001b[1;34m(self, driver_command, params)\u001b[0m\n\u001b[0;32m    438\u001b[0m response \u001b[38;5;241m=\u001b[39m \u001b[38;5;28mself\u001b[39m\u001b[38;5;241m.\u001b[39mcommand_executor\u001b[38;5;241m.\u001b[39mexecute(driver_command, params)\n\u001b[0;32m    439\u001b[0m \u001b[38;5;28;01mif\u001b[39;00m response:\n\u001b[1;32m--> 440\u001b[0m     \u001b[38;5;28;43mself\u001b[39;49m\u001b[38;5;241;43m.\u001b[39;49m\u001b[43merror_handler\u001b[49m\u001b[38;5;241;43m.\u001b[39;49m\u001b[43mcheck_response\u001b[49m\u001b[43m(\u001b[49m\u001b[43mresponse\u001b[49m\u001b[43m)\u001b[49m\n\u001b[0;32m    441\u001b[0m     response[\u001b[38;5;124m\"\u001b[39m\u001b[38;5;124mvalue\u001b[39m\u001b[38;5;124m\"\u001b[39m] \u001b[38;5;241m=\u001b[39m \u001b[38;5;28mself\u001b[39m\u001b[38;5;241m.\u001b[39m_unwrap_value(response\u001b[38;5;241m.\u001b[39mget(\u001b[38;5;124m\"\u001b[39m\u001b[38;5;124mvalue\u001b[39m\u001b[38;5;124m\"\u001b[39m, \u001b[38;5;28;01mNone\u001b[39;00m))\n\u001b[0;32m    442\u001b[0m     \u001b[38;5;28;01mreturn\u001b[39;00m response\n",
      "File \u001b[1;32mD:\\Anaconda\\envs\\ds_toolkit\\lib\\site-packages\\selenium\\webdriver\\remote\\errorhandler.py:245\u001b[0m, in \u001b[0;36mErrorHandler.check_response\u001b[1;34m(self, response)\u001b[0m\n\u001b[0;32m    243\u001b[0m         alert_text \u001b[38;5;241m=\u001b[39m value[\u001b[38;5;124m\"\u001b[39m\u001b[38;5;124malert\u001b[39m\u001b[38;5;124m\"\u001b[39m]\u001b[38;5;241m.\u001b[39mget(\u001b[38;5;124m\"\u001b[39m\u001b[38;5;124mtext\u001b[39m\u001b[38;5;124m\"\u001b[39m)\n\u001b[0;32m    244\u001b[0m     \u001b[38;5;28;01mraise\u001b[39;00m exception_class(message, screen, stacktrace, alert_text)  \u001b[38;5;66;03m# type: ignore[call-arg]  # mypy is not smart enough here\u001b[39;00m\n\u001b[1;32m--> 245\u001b[0m \u001b[38;5;28;01mraise\u001b[39;00m exception_class(message, screen, stacktrace)\n",
      "\u001b[1;31mNoSuchElementException\u001b[0m: Message: no such element: Unable to locate element: {\"method\":\"css selector\",\"selector\":\"[id=\"placeFinder-search__field\"]\"}\n  (Session info: chrome=113.0.5672.127)\nStacktrace:\nBacktrace:\n\tGetHandleVerifier [0x01088893+48451]\n\t(No symbol) [0x0101B8A1]\n\t(No symbol) [0x00F25058]\n\t(No symbol) [0x00F50467]\n\t(No symbol) [0x00F5069B]\n\t(No symbol) [0x00F7DD92]\n\t(No symbol) [0x00F6A304]\n\t(No symbol) [0x00F7C482]\n\t(No symbol) [0x00F6A0B6]\n\t(No symbol) [0x00F47E08]\n\t(No symbol) [0x00F48F2D]\n\tGetHandleVerifier [0x012E8E3A+2540266]\n\tGetHandleVerifier [0x01328959+2801161]\n\tGetHandleVerifier [0x0132295C+2776588]\n\tGetHandleVerifier [0x01112280+612144]\n\t(No symbol) [0x01024F6C]\n\t(No symbol) [0x010211D8]\n\t(No symbol) [0x010212BB]\n\t(No symbol) [0x01014857]\n\tBaseThreadInitThunk [0x76477D59+25]\n\tRtlInitializeExceptionChain [0x7745B74B+107]\n\tRtlClearBits [0x7745B6CF+191]\n"
     ]
    }
   ],
   "source": [
    "driver = webdriver.Chrome()  # (\"./chromedriver\")\n",
    "\n",
    "# load the page\n",
    "driver.get(\"https://filialen.migros.ch/de/\")\n",
    "sleep(2)\n",
    "print(driver)\n",
    "\n",
    "# type in and send the keywords\n",
    "search_bar = driver.find_element(By.ID, \"placeFinder-search__field\")\n",
    "search_bar.send_keys(\"Zürich, Switzerland\")\n",
    "\n",
    "# submit search\n",
    "search_bar = driver.find_element(By.CLASS_NAME, \"placeFinder-search__btn\")\n",
    "sleep(2)\n",
    "search_bar.click()\n",
    "\n",
    "# expand results\n",
    "search_bar = driver.find_element(By.CLASS_NAME, \"placeFinder-list__container-trigger\")\n",
    "for nCntr in range(20):\n",
    "    # scraping = True\n",
    "    # while scraping == True:\n",
    "    #    try:\n",
    "    sleep(3)\n",
    "    search_bar.click()\n",
    "#    except:\n",
    "#        scraping = False\n",
    "\n",
    "soup = BeautifulSoup(driver.page_source, \"html.parser\")"
   ]
  },
  {
   "cell_type": "code",
   "execution_count": null,
   "metadata": {},
   "outputs": [],
   "source": []
  }
 ],
 "metadata": {
  "kernelspec": {
   "display_name": "ds_toolkit",
   "language": "python",
   "name": "ds_toolkit"
  },
  "language_info": {
   "codemirror_mode": {
    "name": "ipython",
    "version": 3
   },
   "file_extension": ".py",
   "mimetype": "text/x-python",
   "name": "python",
   "nbconvert_exporter": "python",
   "pygments_lexer": "ipython3",
   "version": "3.10.11"
  },
  "vscode": {
   "interpreter": {
    "hash": "ac1a6af524aaf77d9a93b863091097e8257a45cb6a5bd695bb325a1b63099952"
   }
  }
 },
 "nbformat": 4,
 "nbformat_minor": 4
}
