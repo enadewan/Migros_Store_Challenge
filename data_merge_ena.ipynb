{
 "cells": [
  {
   "cell_type": "code",
   "execution_count": 1,
   "id": "87da3554-50c8-4996-8cf2-06ecf07266cb",
   "metadata": {
    "tags": []
   },
   "outputs": [],
   "source": [
    "import numpy as np\n",
    "import pandas as pd"
   ]
  },
  {
   "cell_type": "code",
   "execution_count": 2,
   "id": "b79cb72b-01d8-4198-af93-8d1560689238",
   "metadata": {},
   "outputs": [],
   "source": [
    "import plotly.graph_objects as go\n",
    "import plotly.express as px\n",
    "\n",
    "import pandas as pd"
   ]
  },
  {
   "cell_type": "code",
   "execution_count": 3,
   "id": "bc25e6a7-5b22-4bd2-b99c-adb47fbd8a6e",
   "metadata": {},
   "outputs": [],
   "source": [
    "import plotly.io as pio\n",
    "pio.renderers.default = 'iframe'"
   ]
  },
  {
   "cell_type": "code",
   "execution_count": 4,
   "id": "64acf84f-049d-46b2-ad89-248769b999fa",
   "metadata": {
    "tags": []
   },
   "outputs": [
    {
     "name": "stdout",
     "output_type": "stream",
     "text": [
      "Requirement already satisfied: openpyxl in d:\\anaconda\\envs\\ds_toolkit\\lib\\site-packages (3.1.2)\n",
      "Requirement already satisfied: et-xmlfile in d:\\anaconda\\envs\\ds_toolkit\\lib\\site-packages (from openpyxl) (1.1.0)\n",
      "Note: you may need to restart the kernel to use updated packages.\n"
     ]
    }
   ],
   "source": [
    "pip install openpyxl"
   ]
  },
  {
   "cell_type": "code",
   "execution_count": 72,
   "id": "5d7a1c9c-547a-45d4-b1bd-64a7f7c4d73f",
   "metadata": {
    "tags": []
   },
   "outputs": [
    {
     "data": {
      "text/html": [
       "<div>\n",
       "<style scoped>\n",
       "    .dataframe tbody tr th:only-of-type {\n",
       "        vertical-align: middle;\n",
       "    }\n",
       "\n",
       "    .dataframe tbody tr th {\n",
       "        vertical-align: top;\n",
       "    }\n",
       "\n",
       "    .dataframe thead th {\n",
       "        text-align: right;\n",
       "    }\n",
       "</style>\n",
       "<table border=\"1\" class=\"dataframe\">\n",
       "  <thead>\n",
       "    <tr style=\"text-align: right;\">\n",
       "      <th></th>\n",
       "      <th>Unnamed: 0</th>\n",
       "      <th>zipcode</th>\n",
       "      <th>population</th>\n",
       "      <th>store_count_migros</th>\n",
       "      <th>store_count_coop</th>\n",
       "    </tr>\n",
       "  </thead>\n",
       "  <tbody>\n",
       "    <tr>\n",
       "      <th>0</th>\n",
       "      <td>1</td>\n",
       "      <td>8001</td>\n",
       "      <td>5468</td>\n",
       "      <td>3</td>\n",
       "      <td>5</td>\n",
       "    </tr>\n",
       "    <tr>\n",
       "      <th>1</th>\n",
       "      <td>2</td>\n",
       "      <td>8002</td>\n",
       "      <td>9696</td>\n",
       "      <td>2</td>\n",
       "      <td>2</td>\n",
       "    </tr>\n",
       "    <tr>\n",
       "      <th>2</th>\n",
       "      <td>3</td>\n",
       "      <td>8003</td>\n",
       "      <td>20210</td>\n",
       "      <td>1</td>\n",
       "      <td>2</td>\n",
       "    </tr>\n",
       "    <tr>\n",
       "      <th>3</th>\n",
       "      <td>4</td>\n",
       "      <td>8004</td>\n",
       "      <td>26855</td>\n",
       "      <td>3</td>\n",
       "      <td>3</td>\n",
       "    </tr>\n",
       "    <tr>\n",
       "      <th>4</th>\n",
       "      <td>5</td>\n",
       "      <td>8005</td>\n",
       "      <td>15555</td>\n",
       "      <td>4</td>\n",
       "      <td>6</td>\n",
       "    </tr>\n",
       "    <tr>\n",
       "      <th>5</th>\n",
       "      <td>6</td>\n",
       "      <td>8006</td>\n",
       "      <td>18284</td>\n",
       "      <td>1</td>\n",
       "      <td>2</td>\n",
       "    </tr>\n",
       "    <tr>\n",
       "      <th>6</th>\n",
       "      <td>7</td>\n",
       "      <td>8008</td>\n",
       "      <td>17254</td>\n",
       "      <td>4</td>\n",
       "      <td>4</td>\n",
       "    </tr>\n",
       "    <tr>\n",
       "      <th>7</th>\n",
       "      <td>8</td>\n",
       "      <td>8032</td>\n",
       "      <td>17921</td>\n",
       "      <td>0</td>\n",
       "      <td>1</td>\n",
       "    </tr>\n",
       "    <tr>\n",
       "      <th>8</th>\n",
       "      <td>9</td>\n",
       "      <td>8037</td>\n",
       "      <td>16008</td>\n",
       "      <td>2</td>\n",
       "      <td>2</td>\n",
       "    </tr>\n",
       "    <tr>\n",
       "      <th>9</th>\n",
       "      <td>10</td>\n",
       "      <td>8038</td>\n",
       "      <td>17634</td>\n",
       "      <td>2</td>\n",
       "      <td>2</td>\n",
       "    </tr>\n",
       "    <tr>\n",
       "      <th>10</th>\n",
       "      <td>11</td>\n",
       "      <td>8041</td>\n",
       "      <td>8200</td>\n",
       "      <td>2</td>\n",
       "      <td>1</td>\n",
       "    </tr>\n",
       "    <tr>\n",
       "      <th>11</th>\n",
       "      <td>12</td>\n",
       "      <td>8044</td>\n",
       "      <td>11334</td>\n",
       "      <td>1</td>\n",
       "      <td>1</td>\n",
       "    </tr>\n",
       "    <tr>\n",
       "      <th>12</th>\n",
       "      <td>13</td>\n",
       "      <td>8045</td>\n",
       "      <td>11117</td>\n",
       "      <td>1</td>\n",
       "      <td>3</td>\n",
       "    </tr>\n",
       "    <tr>\n",
       "      <th>13</th>\n",
       "      <td>14</td>\n",
       "      <td>8046</td>\n",
       "      <td>25366</td>\n",
       "      <td>1</td>\n",
       "      <td>2</td>\n",
       "    </tr>\n",
       "    <tr>\n",
       "      <th>14</th>\n",
       "      <td>15</td>\n",
       "      <td>8047</td>\n",
       "      <td>20818</td>\n",
       "      <td>3</td>\n",
       "      <td>3</td>\n",
       "    </tr>\n",
       "    <tr>\n",
       "      <th>15</th>\n",
       "      <td>16</td>\n",
       "      <td>8048</td>\n",
       "      <td>30033</td>\n",
       "      <td>2</td>\n",
       "      <td>6</td>\n",
       "    </tr>\n",
       "    <tr>\n",
       "      <th>16</th>\n",
       "      <td>17</td>\n",
       "      <td>8049</td>\n",
       "      <td>23706</td>\n",
       "      <td>1</td>\n",
       "      <td>4</td>\n",
       "    </tr>\n",
       "    <tr>\n",
       "      <th>17</th>\n",
       "      <td>18</td>\n",
       "      <td>8050</td>\n",
       "      <td>29922</td>\n",
       "      <td>1</td>\n",
       "      <td>6</td>\n",
       "    </tr>\n",
       "    <tr>\n",
       "      <th>18</th>\n",
       "      <td>19</td>\n",
       "      <td>8051</td>\n",
       "      <td>22426</td>\n",
       "      <td>1</td>\n",
       "      <td>2</td>\n",
       "    </tr>\n",
       "    <tr>\n",
       "      <th>19</th>\n",
       "      <td>20</td>\n",
       "      <td>8052</td>\n",
       "      <td>20014</td>\n",
       "      <td>1</td>\n",
       "      <td>1</td>\n",
       "    </tr>\n",
       "    <tr>\n",
       "      <th>20</th>\n",
       "      <td>21</td>\n",
       "      <td>8053</td>\n",
       "      <td>11151</td>\n",
       "      <td>2</td>\n",
       "      <td>1</td>\n",
       "    </tr>\n",
       "    <tr>\n",
       "      <th>21</th>\n",
       "      <td>22</td>\n",
       "      <td>8055</td>\n",
       "      <td>19559</td>\n",
       "      <td>1</td>\n",
       "      <td>1</td>\n",
       "    </tr>\n",
       "    <tr>\n",
       "      <th>22</th>\n",
       "      <td>23</td>\n",
       "      <td>8057</td>\n",
       "      <td>21786</td>\n",
       "      <td>1</td>\n",
       "      <td>1</td>\n",
       "    </tr>\n",
       "    <tr>\n",
       "      <th>23</th>\n",
       "      <td>24</td>\n",
       "      <td>8064</td>\n",
       "      <td>3622</td>\n",
       "      <td>1</td>\n",
       "      <td>0</td>\n",
       "    </tr>\n",
       "  </tbody>\n",
       "</table>\n",
       "</div>"
      ],
      "text/plain": [
       "    Unnamed: 0  zipcode  population  store_count_migros  store_count_coop\n",
       "0            1     8001        5468                   3                 5\n",
       "1            2     8002        9696                   2                 2\n",
       "2            3     8003       20210                   1                 2\n",
       "3            4     8004       26855                   3                 3\n",
       "4            5     8005       15555                   4                 6\n",
       "5            6     8006       18284                   1                 2\n",
       "6            7     8008       17254                   4                 4\n",
       "7            8     8032       17921                   0                 1\n",
       "8            9     8037       16008                   2                 2\n",
       "9           10     8038       17634                   2                 2\n",
       "10          11     8041        8200                   2                 1\n",
       "11          12     8044       11334                   1                 1\n",
       "12          13     8045       11117                   1                 3\n",
       "13          14     8046       25366                   1                 2\n",
       "14          15     8047       20818                   3                 3\n",
       "15          16     8048       30033                   2                 6\n",
       "16          17     8049       23706                   1                 4\n",
       "17          18     8050       29922                   1                 6\n",
       "18          19     8051       22426                   1                 2\n",
       "19          20     8052       20014                   1                 1\n",
       "20          21     8053       11151                   2                 1\n",
       "21          22     8055       19559                   1                 1\n",
       "22          23     8057       21786                   1                 1\n",
       "23          24     8064        3622                   1                 0"
      ]
     },
     "execution_count": 72,
     "metadata": {},
     "output_type": "execute_result"
    }
   ],
   "source": [
    "df_migros=pd.read_csv(\"migros_all_data.csv\")\n",
    "df_migros"
   ]
  },
  {
   "cell_type": "code",
   "execution_count": 73,
   "id": "640484bd-c9bf-4a5e-b4ec-8f93fb5fcbf5",
   "metadata": {
    "tags": []
   },
   "outputs": [
    {
     "name": "stdout",
     "output_type": "stream",
     "text": [
      "<class 'pandas.core.frame.DataFrame'>\n",
      "RangeIndex: 24 entries, 0 to 23\n",
      "Data columns (total 5 columns):\n",
      " #   Column              Non-Null Count  Dtype \n",
      "---  ------              --------------  ----- \n",
      " 0   zipcode             24 non-null     object\n",
      " 1   population          24 non-null     int64 \n",
      " 2   store_count_migros  24 non-null     int64 \n",
      " 3   store_count_coop    24 non-null     int64 \n",
      " 4   total_stores        24 non-null     int64 \n",
      "dtypes: int64(4), object(1)\n",
      "memory usage: 1.1+ KB\n"
     ]
    }
   ],
   "source": [
    "df_new=df_migros.drop(columns=['Unnamed: 0'])\n",
    "df_new[\"zipcode\"] = df_new[\"zipcode\"].astype(str)\n",
    "df_new[\"total_stores\"]=df_new[\"store_count_migros\"]+df_new[\"store_count_coop\"]\n",
    "df_new.info()"
   ]
  },
  {
   "cell_type": "code",
   "execution_count": 74,
   "id": "ed99c2cf-dc37-4184-86cd-11de55459add",
   "metadata": {
    "tags": []
   },
   "outputs": [
    {
     "data": {
      "text/html": [
       "<iframe\n",
       "    scrolling=\"no\"\n",
       "    width=\"100%\"\n",
       "    height=\"545px\"\n",
       "    src=\"iframe_figures/figure_74.html\"\n",
       "    frameborder=\"0\"\n",
       "    allowfullscreen\n",
       "></iframe>\n"
      ]
     },
     "metadata": {},
     "output_type": "display_data"
    }
   ],
   "source": [
    "fig = px.scatter_matrix(df_new)\n",
    "fig.show()"
   ]
  },
  {
   "cell_type": "code",
   "execution_count": 75,
   "id": "9a1d1e06-4c0c-4b6f-a0cf-5652008aeb20",
   "metadata": {
    "tags": []
   },
   "outputs": [
    {
     "data": {
      "text/html": [
       "<div>\n",
       "<style scoped>\n",
       "    .dataframe tbody tr th:only-of-type {\n",
       "        vertical-align: middle;\n",
       "    }\n",
       "\n",
       "    .dataframe tbody tr th {\n",
       "        vertical-align: top;\n",
       "    }\n",
       "\n",
       "    .dataframe thead th {\n",
       "        text-align: right;\n",
       "    }\n",
       "</style>\n",
       "<table border=\"1\" class=\"dataframe\">\n",
       "  <thead>\n",
       "    <tr style=\"text-align: right;\">\n",
       "      <th></th>\n",
       "      <th>zipcode</th>\n",
       "      <th>population</th>\n",
       "      <th>store_count_migros</th>\n",
       "      <th>store_count_coop</th>\n",
       "      <th>total_stores</th>\n",
       "      <th>migros_share</th>\n",
       "      <th>coop_share</th>\n",
       "      <th>density of stores</th>\n",
       "    </tr>\n",
       "  </thead>\n",
       "  <tbody>\n",
       "    <tr>\n",
       "      <th>0</th>\n",
       "      <td>8001</td>\n",
       "      <td>5468</td>\n",
       "      <td>3</td>\n",
       "      <td>5</td>\n",
       "      <td>8</td>\n",
       "      <td>0.375000</td>\n",
       "      <td>0.625000</td>\n",
       "      <td>14.630578</td>\n",
       "    </tr>\n",
       "    <tr>\n",
       "      <th>1</th>\n",
       "      <td>8002</td>\n",
       "      <td>9696</td>\n",
       "      <td>2</td>\n",
       "      <td>2</td>\n",
       "      <td>4</td>\n",
       "      <td>0.500000</td>\n",
       "      <td>0.500000</td>\n",
       "      <td>4.125413</td>\n",
       "    </tr>\n",
       "    <tr>\n",
       "      <th>2</th>\n",
       "      <td>8003</td>\n",
       "      <td>20210</td>\n",
       "      <td>1</td>\n",
       "      <td>2</td>\n",
       "      <td>3</td>\n",
       "      <td>0.333333</td>\n",
       "      <td>0.666667</td>\n",
       "      <td>1.484414</td>\n",
       "    </tr>\n",
       "    <tr>\n",
       "      <th>3</th>\n",
       "      <td>8004</td>\n",
       "      <td>26855</td>\n",
       "      <td>3</td>\n",
       "      <td>3</td>\n",
       "      <td>6</td>\n",
       "      <td>0.500000</td>\n",
       "      <td>0.500000</td>\n",
       "      <td>2.234221</td>\n",
       "    </tr>\n",
       "    <tr>\n",
       "      <th>4</th>\n",
       "      <td>8005</td>\n",
       "      <td>15555</td>\n",
       "      <td>4</td>\n",
       "      <td>6</td>\n",
       "      <td>10</td>\n",
       "      <td>0.400000</td>\n",
       "      <td>0.600000</td>\n",
       "      <td>6.428801</td>\n",
       "    </tr>\n",
       "    <tr>\n",
       "      <th>5</th>\n",
       "      <td>8006</td>\n",
       "      <td>18284</td>\n",
       "      <td>1</td>\n",
       "      <td>2</td>\n",
       "      <td>3</td>\n",
       "      <td>0.333333</td>\n",
       "      <td>0.666667</td>\n",
       "      <td>1.640779</td>\n",
       "    </tr>\n",
       "    <tr>\n",
       "      <th>6</th>\n",
       "      <td>8008</td>\n",
       "      <td>17254</td>\n",
       "      <td>4</td>\n",
       "      <td>4</td>\n",
       "      <td>8</td>\n",
       "      <td>0.500000</td>\n",
       "      <td>0.500000</td>\n",
       "      <td>4.636606</td>\n",
       "    </tr>\n",
       "    <tr>\n",
       "      <th>7</th>\n",
       "      <td>8032</td>\n",
       "      <td>17921</td>\n",
       "      <td>0</td>\n",
       "      <td>1</td>\n",
       "      <td>1</td>\n",
       "      <td>0.000000</td>\n",
       "      <td>1.000000</td>\n",
       "      <td>0.558005</td>\n",
       "    </tr>\n",
       "    <tr>\n",
       "      <th>8</th>\n",
       "      <td>8037</td>\n",
       "      <td>16008</td>\n",
       "      <td>2</td>\n",
       "      <td>2</td>\n",
       "      <td>4</td>\n",
       "      <td>0.500000</td>\n",
       "      <td>0.500000</td>\n",
       "      <td>2.498751</td>\n",
       "    </tr>\n",
       "    <tr>\n",
       "      <th>9</th>\n",
       "      <td>8038</td>\n",
       "      <td>17634</td>\n",
       "      <td>2</td>\n",
       "      <td>2</td>\n",
       "      <td>4</td>\n",
       "      <td>0.500000</td>\n",
       "      <td>0.500000</td>\n",
       "      <td>2.268345</td>\n",
       "    </tr>\n",
       "    <tr>\n",
       "      <th>10</th>\n",
       "      <td>8041</td>\n",
       "      <td>8200</td>\n",
       "      <td>2</td>\n",
       "      <td>1</td>\n",
       "      <td>3</td>\n",
       "      <td>0.666667</td>\n",
       "      <td>0.333333</td>\n",
       "      <td>3.658537</td>\n",
       "    </tr>\n",
       "    <tr>\n",
       "      <th>11</th>\n",
       "      <td>8044</td>\n",
       "      <td>11334</td>\n",
       "      <td>1</td>\n",
       "      <td>1</td>\n",
       "      <td>2</td>\n",
       "      <td>0.500000</td>\n",
       "      <td>0.500000</td>\n",
       "      <td>1.764602</td>\n",
       "    </tr>\n",
       "    <tr>\n",
       "      <th>12</th>\n",
       "      <td>8045</td>\n",
       "      <td>11117</td>\n",
       "      <td>1</td>\n",
       "      <td>3</td>\n",
       "      <td>4</td>\n",
       "      <td>0.250000</td>\n",
       "      <td>0.750000</td>\n",
       "      <td>3.598093</td>\n",
       "    </tr>\n",
       "    <tr>\n",
       "      <th>13</th>\n",
       "      <td>8046</td>\n",
       "      <td>25366</td>\n",
       "      <td>1</td>\n",
       "      <td>2</td>\n",
       "      <td>3</td>\n",
       "      <td>0.333333</td>\n",
       "      <td>0.666667</td>\n",
       "      <td>1.182685</td>\n",
       "    </tr>\n",
       "    <tr>\n",
       "      <th>14</th>\n",
       "      <td>8047</td>\n",
       "      <td>20818</td>\n",
       "      <td>3</td>\n",
       "      <td>3</td>\n",
       "      <td>6</td>\n",
       "      <td>0.500000</td>\n",
       "      <td>0.500000</td>\n",
       "      <td>2.882121</td>\n",
       "    </tr>\n",
       "    <tr>\n",
       "      <th>15</th>\n",
       "      <td>8048</td>\n",
       "      <td>30033</td>\n",
       "      <td>2</td>\n",
       "      <td>6</td>\n",
       "      <td>8</td>\n",
       "      <td>0.250000</td>\n",
       "      <td>0.750000</td>\n",
       "      <td>2.663737</td>\n",
       "    </tr>\n",
       "    <tr>\n",
       "      <th>16</th>\n",
       "      <td>8049</td>\n",
       "      <td>23706</td>\n",
       "      <td>1</td>\n",
       "      <td>4</td>\n",
       "      <td>5</td>\n",
       "      <td>0.200000</td>\n",
       "      <td>0.800000</td>\n",
       "      <td>2.109171</td>\n",
       "    </tr>\n",
       "    <tr>\n",
       "      <th>17</th>\n",
       "      <td>8050</td>\n",
       "      <td>29922</td>\n",
       "      <td>1</td>\n",
       "      <td>6</td>\n",
       "      <td>7</td>\n",
       "      <td>0.142857</td>\n",
       "      <td>0.857143</td>\n",
       "      <td>2.339416</td>\n",
       "    </tr>\n",
       "    <tr>\n",
       "      <th>18</th>\n",
       "      <td>8051</td>\n",
       "      <td>22426</td>\n",
       "      <td>1</td>\n",
       "      <td>2</td>\n",
       "      <td>3</td>\n",
       "      <td>0.333333</td>\n",
       "      <td>0.666667</td>\n",
       "      <td>1.337733</td>\n",
       "    </tr>\n",
       "    <tr>\n",
       "      <th>19</th>\n",
       "      <td>8052</td>\n",
       "      <td>20014</td>\n",
       "      <td>1</td>\n",
       "      <td>1</td>\n",
       "      <td>2</td>\n",
       "      <td>0.500000</td>\n",
       "      <td>0.500000</td>\n",
       "      <td>0.999300</td>\n",
       "    </tr>\n",
       "    <tr>\n",
       "      <th>20</th>\n",
       "      <td>8053</td>\n",
       "      <td>11151</td>\n",
       "      <td>2</td>\n",
       "      <td>1</td>\n",
       "      <td>3</td>\n",
       "      <td>0.666667</td>\n",
       "      <td>0.333333</td>\n",
       "      <td>2.690342</td>\n",
       "    </tr>\n",
       "    <tr>\n",
       "      <th>21</th>\n",
       "      <td>8055</td>\n",
       "      <td>19559</td>\n",
       "      <td>1</td>\n",
       "      <td>1</td>\n",
       "      <td>2</td>\n",
       "      <td>0.500000</td>\n",
       "      <td>0.500000</td>\n",
       "      <td>1.022547</td>\n",
       "    </tr>\n",
       "    <tr>\n",
       "      <th>22</th>\n",
       "      <td>8057</td>\n",
       "      <td>21786</td>\n",
       "      <td>1</td>\n",
       "      <td>1</td>\n",
       "      <td>2</td>\n",
       "      <td>0.500000</td>\n",
       "      <td>0.500000</td>\n",
       "      <td>0.918021</td>\n",
       "    </tr>\n",
       "    <tr>\n",
       "      <th>23</th>\n",
       "      <td>8064</td>\n",
       "      <td>3622</td>\n",
       "      <td>1</td>\n",
       "      <td>0</td>\n",
       "      <td>1</td>\n",
       "      <td>1.000000</td>\n",
       "      <td>0.000000</td>\n",
       "      <td>2.760906</td>\n",
       "    </tr>\n",
       "  </tbody>\n",
       "</table>\n",
       "</div>"
      ],
      "text/plain": [
       "   zipcode  population  store_count_migros  store_count_coop  total_stores  \\\n",
       "0     8001        5468                   3                 5             8   \n",
       "1     8002        9696                   2                 2             4   \n",
       "2     8003       20210                   1                 2             3   \n",
       "3     8004       26855                   3                 3             6   \n",
       "4     8005       15555                   4                 6            10   \n",
       "5     8006       18284                   1                 2             3   \n",
       "6     8008       17254                   4                 4             8   \n",
       "7     8032       17921                   0                 1             1   \n",
       "8     8037       16008                   2                 2             4   \n",
       "9     8038       17634                   2                 2             4   \n",
       "10    8041        8200                   2                 1             3   \n",
       "11    8044       11334                   1                 1             2   \n",
       "12    8045       11117                   1                 3             4   \n",
       "13    8046       25366                   1                 2             3   \n",
       "14    8047       20818                   3                 3             6   \n",
       "15    8048       30033                   2                 6             8   \n",
       "16    8049       23706                   1                 4             5   \n",
       "17    8050       29922                   1                 6             7   \n",
       "18    8051       22426                   1                 2             3   \n",
       "19    8052       20014                   1                 1             2   \n",
       "20    8053       11151                   2                 1             3   \n",
       "21    8055       19559                   1                 1             2   \n",
       "22    8057       21786                   1                 1             2   \n",
       "23    8064        3622                   1                 0             1   \n",
       "\n",
       "    migros_share  coop_share  density of stores  \n",
       "0       0.375000    0.625000          14.630578  \n",
       "1       0.500000    0.500000           4.125413  \n",
       "2       0.333333    0.666667           1.484414  \n",
       "3       0.500000    0.500000           2.234221  \n",
       "4       0.400000    0.600000           6.428801  \n",
       "5       0.333333    0.666667           1.640779  \n",
       "6       0.500000    0.500000           4.636606  \n",
       "7       0.000000    1.000000           0.558005  \n",
       "8       0.500000    0.500000           2.498751  \n",
       "9       0.500000    0.500000           2.268345  \n",
       "10      0.666667    0.333333           3.658537  \n",
       "11      0.500000    0.500000           1.764602  \n",
       "12      0.250000    0.750000           3.598093  \n",
       "13      0.333333    0.666667           1.182685  \n",
       "14      0.500000    0.500000           2.882121  \n",
       "15      0.250000    0.750000           2.663737  \n",
       "16      0.200000    0.800000           2.109171  \n",
       "17      0.142857    0.857143           2.339416  \n",
       "18      0.333333    0.666667           1.337733  \n",
       "19      0.500000    0.500000           0.999300  \n",
       "20      0.666667    0.333333           2.690342  \n",
       "21      0.500000    0.500000           1.022547  \n",
       "22      0.500000    0.500000           0.918021  \n",
       "23      1.000000    0.000000           2.760906  "
      ]
     },
     "execution_count": 75,
     "metadata": {},
     "output_type": "execute_result"
    }
   ],
   "source": [
    "df_new[\"migros_share\"]=df_new[\"store_count_migros\"]/(df_new[\"store_count_migros\"]+df_new[\"store_count_coop\"])\n",
    "df_new[\"coop_share\"]=df_new[\"store_count_coop\"]/(df_new[\"store_count_migros\"]+df_new[\"store_count_coop\"])\n",
    "df_new[\"density of stores\"]=df_new[\"total_stores\"]*10000/df_new[\"population\"]\n",
    "df_new"
   ]
  },
  {
   "cell_type": "code",
   "execution_count": 9,
   "id": "1ad2fe30-3bd4-4e4b-a028-d93396053fa0",
   "metadata": {
    "tags": []
   },
   "outputs": [
    {
     "data": {
      "text/html": [
       "<iframe\n",
       "    scrolling=\"no\"\n",
       "    width=\"100%\"\n",
       "    height=\"545px\"\n",
       "    src=\"iframe_figures/figure_9.html\"\n",
       "    frameborder=\"0\"\n",
       "    allowfullscreen\n",
       "></iframe>\n"
      ]
     },
     "metadata": {},
     "output_type": "display_data"
    }
   ],
   "source": [
    "fig = px.scatter_matrix(df_new)\n",
    "fig.update_xaxes(tickangle=45)\n",
    "fig.update_yaxes(tickangle=45)\n",
    "fig.show()"
   ]
  },
  {
   "cell_type": "code",
   "execution_count": null,
   "id": "ab7f8b86-a75e-4f5a-a8fe-9426959db2f7",
   "metadata": {},
   "outputs": [],
   "source": [
    "Strategy1:"
   ]
  },
  {
   "cell_type": "code",
   "execution_count": 76,
   "id": "f639473b-43df-43c7-ab7e-dd596fb41793",
   "metadata": {
    "tags": []
   },
   "outputs": [
    {
     "data": {
      "text/html": [
       "<div>\n",
       "<style scoped>\n",
       "    .dataframe tbody tr th:only-of-type {\n",
       "        vertical-align: middle;\n",
       "    }\n",
       "\n",
       "    .dataframe tbody tr th {\n",
       "        vertical-align: top;\n",
       "    }\n",
       "\n",
       "    .dataframe thead th {\n",
       "        text-align: right;\n",
       "    }\n",
       "</style>\n",
       "<table border=\"1\" class=\"dataframe\">\n",
       "  <thead>\n",
       "    <tr style=\"text-align: right;\">\n",
       "      <th></th>\n",
       "      <th>zipcode</th>\n",
       "      <th>population</th>\n",
       "      <th>store_count_migros</th>\n",
       "      <th>store_count_coop</th>\n",
       "      <th>total_stores</th>\n",
       "      <th>migros_share</th>\n",
       "      <th>coop_share</th>\n",
       "      <th>density of stores</th>\n",
       "    </tr>\n",
       "  </thead>\n",
       "  <tbody>\n",
       "    <tr>\n",
       "      <th>0</th>\n",
       "      <td>8001</td>\n",
       "      <td>5468</td>\n",
       "      <td>3</td>\n",
       "      <td>5</td>\n",
       "      <td>8</td>\n",
       "      <td>0.375000</td>\n",
       "      <td>0.625000</td>\n",
       "      <td>14.630578</td>\n",
       "    </tr>\n",
       "    <tr>\n",
       "      <th>1</th>\n",
       "      <td>8002</td>\n",
       "      <td>9696</td>\n",
       "      <td>2</td>\n",
       "      <td>2</td>\n",
       "      <td>4</td>\n",
       "      <td>0.500000</td>\n",
       "      <td>0.500000</td>\n",
       "      <td>4.125413</td>\n",
       "    </tr>\n",
       "    <tr>\n",
       "      <th>4</th>\n",
       "      <td>8005</td>\n",
       "      <td>15555</td>\n",
       "      <td>4</td>\n",
       "      <td>6</td>\n",
       "      <td>10</td>\n",
       "      <td>0.400000</td>\n",
       "      <td>0.600000</td>\n",
       "      <td>6.428801</td>\n",
       "    </tr>\n",
       "    <tr>\n",
       "      <th>6</th>\n",
       "      <td>8008</td>\n",
       "      <td>17254</td>\n",
       "      <td>4</td>\n",
       "      <td>4</td>\n",
       "      <td>8</td>\n",
       "      <td>0.500000</td>\n",
       "      <td>0.500000</td>\n",
       "      <td>4.636606</td>\n",
       "    </tr>\n",
       "    <tr>\n",
       "      <th>10</th>\n",
       "      <td>8041</td>\n",
       "      <td>8200</td>\n",
       "      <td>2</td>\n",
       "      <td>1</td>\n",
       "      <td>3</td>\n",
       "      <td>0.666667</td>\n",
       "      <td>0.333333</td>\n",
       "      <td>3.658537</td>\n",
       "    </tr>\n",
       "    <tr>\n",
       "      <th>12</th>\n",
       "      <td>8045</td>\n",
       "      <td>11117</td>\n",
       "      <td>1</td>\n",
       "      <td>3</td>\n",
       "      <td>4</td>\n",
       "      <td>0.250000</td>\n",
       "      <td>0.750000</td>\n",
       "      <td>3.598093</td>\n",
       "    </tr>\n",
       "  </tbody>\n",
       "</table>\n",
       "</div>"
      ],
      "text/plain": [
       "   zipcode  population  store_count_migros  store_count_coop  total_stores  \\\n",
       "0     8001        5468                   3                 5             8   \n",
       "1     8002        9696                   2                 2             4   \n",
       "4     8005       15555                   4                 6            10   \n",
       "6     8008       17254                   4                 4             8   \n",
       "10    8041        8200                   2                 1             3   \n",
       "12    8045       11117                   1                 3             4   \n",
       "\n",
       "    migros_share  coop_share  density of stores  \n",
       "0       0.375000    0.625000          14.630578  \n",
       "1       0.500000    0.500000           4.125413  \n",
       "4       0.400000    0.600000           6.428801  \n",
       "6       0.500000    0.500000           4.636606  \n",
       "10      0.666667    0.333333           3.658537  \n",
       "12      0.250000    0.750000           3.598093  "
      ]
     },
     "execution_count": 76,
     "metadata": {},
     "output_type": "execute_result"
    }
   ],
   "source": [
    "df_low_density_areas=df_new[df_new[\"density of stores\"]<=np.mean(df_new[\"density of stores\"])]\n",
    "df_low_density_areas\n",
    "df_high_density_areas=df_new[df_new[\"density of stores\"]>np.mean(df_new[\"density of stores\"])]\n",
    "df_high_density_areas"
   ]
  },
  {
   "cell_type": "code",
   "execution_count": 99,
   "id": "50478c59-1767-4158-afc9-5d93553b07c6",
   "metadata": {
    "tags": []
   },
   "outputs": [
    {
     "name": "stderr",
     "output_type": "stream",
     "text": [
      "D:\\Anaconda\\envs\\ds_toolkit\\lib\\site-packages\\numpy\\core\\numeric.py:2463: FutureWarning:\n",
      "\n",
      "elementwise comparison failed; returning scalar instead, but in the future will perform elementwise comparison\n",
      "\n"
     ]
    },
    {
     "data": {
      "text/html": [
       "<iframe\n",
       "    scrolling=\"no\"\n",
       "    width=\"100%\"\n",
       "    height=\"545px\"\n",
       "    src=\"iframe_figures/figure_99.html\"\n",
       "    frameborder=\"0\"\n",
       "    allowfullscreen\n",
       "></iframe>\n"
      ]
     },
     "metadata": {},
     "output_type": "display_data"
    }
   ],
   "source": [
    "fig = px.scatter(df_new, x='zipcode', y='density of stores', color='density of stores')\n",
    "fig.update_traces(marker=dict(size=15,line=dict(width=2,color='DarkSlateGrey')), selector=dict(mode='markers'))\n",
    "fig.update_traces(name=\"migros stores count\", marker=dict(color=['LightGrey' if val > np.mean(df_new[\"density of stores\"]) else 'red' for val in df_new['density of stores']]))\n",
    "fig.update_layout(plot_bgcolor=\"white\",xaxis_title=\"ZIPCODE\",yaxis_title=\"Density of total stores(total_stores/10K)\", \n",
    "                  title_text=\"Scatter plot of density of stores per zipcode\")\n",
    "\n",
    "fig.show()"
   ]
  },
  {
   "cell_type": "code",
   "execution_count": 100,
   "id": "a9879e9a-cb37-459e-9282-325480e02fbb",
   "metadata": {
    "tags": []
   },
   "outputs": [],
   "source": [
    "fig.write_image(\"fig7.svg\")"
   ]
  },
  {
   "cell_type": "code",
   "execution_count": null,
   "id": "39f69b02-da22-4d60-842f-5c72e2399d27",
   "metadata": {
    "tags": []
   },
   "outputs": [],
   "source": [
    "average=df_new[\"total_stores\"].mean()/df_new[\"population\"].mean()\n",
    "potential=(average*df_new[\"population\"])-df_new[\"total_stores\"]\n",
    "df_new[\"potential\"]= round(potential)\n",
    "df_new"
   ]
  },
  {
   "cell_type": "code",
   "execution_count": 103,
   "id": "c91841af-d257-417c-9832-567bb5624c12",
   "metadata": {
    "tags": []
   },
   "outputs": [
    {
     "data": {
      "text/html": [
       "<iframe\n",
       "    scrolling=\"no\"\n",
       "    width=\"100%\"\n",
       "    height=\"545px\"\n",
       "    src=\"iframe_figures/figure_103.html\"\n",
       "    frameborder=\"0\"\n",
       "    allowfullscreen\n",
       "></iframe>\n"
      ]
     },
     "metadata": {},
     "output_type": "display_data"
    }
   ],
   "source": [
    "fig = go.Figure(data=[go.Bar(x=df_new[\"zipcode\"], y=df_new[\"potential\"], name=\"Migros potential to open stores\", marker_color=\"Orange\")])\n",
    "fig.update_layout(xaxis_title=\"Zipcode\",yaxis_title=\"Potential stores(Number of more stores migros can open\",\n",
    "                  title_text=\"Potential new stores based on store density and less stores in the area\",\n",
    "                  plot_bgcolor=\"white\", xaxis_tickangle=45)\n",
    "fig.show()"
   ]
  },
  {
   "cell_type": "code",
   "execution_count": null,
   "id": "7709194c-e608-4ae3-8410-14c1f75c31dd",
   "metadata": {},
   "outputs": [],
   "source": []
  },
  {
   "cell_type": "code",
   "execution_count": 123,
   "id": "f121c3e9-384e-4a32-9866-01c0b8180a78",
   "metadata": {
    "tags": []
   },
   "outputs": [
    {
     "name": "stderr",
     "output_type": "stream",
     "text": [
      "D:\\Anaconda\\envs\\ds_toolkit\\lib\\site-packages\\numpy\\core\\numeric.py:2463: FutureWarning:\n",
      "\n",
      "elementwise comparison failed; returning scalar instead, but in the future will perform elementwise comparison\n",
      "\n"
     ]
    },
    {
     "data": {
      "text/html": [
       "<iframe\n",
       "    scrolling=\"no\"\n",
       "    width=\"100%\"\n",
       "    height=\"545px\"\n",
       "    src=\"iframe_figures/figure_123.html\"\n",
       "    frameborder=\"0\"\n",
       "    allowfullscreen\n",
       "></iframe>\n"
      ]
     },
     "metadata": {},
     "output_type": "display_data"
    }
   ],
   "source": [
    "fig = px.scatter(df_new, x='zipcode', y='density of stores', color='density of stores')\n",
    "fig.update_traces(marker=dict(size=15,line=dict(width=2,color='DarkSlateGrey')), selector=dict(mode='markers'))\n",
    "fig.update_traces(name=\"migros stores count\", marker=dict(color=['LightGrey' if val > np.mean(df_new[\"density of stores\"]) else 'red' for val in df_new['density of stores']]))\n",
    "fig.update_layout(plot_bgcolor=\"white\",xaxis_title=\"ZIPCODE\",yaxis_title=\"Density of total stores(total_stores/10K)\", \n",
    "                  title_text=\"Scatter plot of density of stores per zipcode<br><span style='color:Grey'> Grey- High Density Areas</span><br><span style='color:Red'> Red-  Low Density Areas</span>\")\n",
    "fig.add_trace(go.Scatter(x=df_new[\"zipcode\"],y=df_new[\"store_count_migros\"], name=\"Migros store count\", marker_color=\"Orange\", mode=\"markers\",marker_size=10))\n",
    "fig.add_trace(go.Scatter(x=df_new[\"zipcode\"],y=df_new[\"store_count_coop\"], name=\"COOP store count\", marker_color=\"Yellow\", mode=\"markers\",marker_size=10))\n",
    "fig.show()"
   ]
  },
  {
   "cell_type": "code",
   "execution_count": 124,
   "id": "e4a1fcb1-34bc-4a3f-bc70-8a87064e4092",
   "metadata": {
    "tags": []
   },
   "outputs": [],
   "source": [
    "fig.write_image(\"fig8.svg\")"
   ]
  },
  {
   "cell_type": "code",
   "execution_count": null,
   "id": "5d8f68ac-037d-4228-a5ad-d65eb246f569",
   "metadata": {
    "tags": []
   },
   "outputs": [],
   "source": [
    "fig = px.scatter(df_new, x=\"population\", y=\"total_stores\", color=\"zipcode\",size=\"total_stores\")\n",
    "fig.show()"
   ]
  },
  {
   "cell_type": "code",
   "execution_count": 117,
   "id": "cd785343-db2c-424e-ae70-6153332b7182",
   "metadata": {
    "tags": []
   },
   "outputs": [
    {
     "data": {
      "text/html": [
       "<div>\n",
       "<style scoped>\n",
       "    .dataframe tbody tr th:only-of-type {\n",
       "        vertical-align: middle;\n",
       "    }\n",
       "\n",
       "    .dataframe tbody tr th {\n",
       "        vertical-align: top;\n",
       "    }\n",
       "\n",
       "    .dataframe thead th {\n",
       "        text-align: right;\n",
       "    }\n",
       "</style>\n",
       "<table border=\"1\" class=\"dataframe\">\n",
       "  <thead>\n",
       "    <tr style=\"text-align: right;\">\n",
       "      <th></th>\n",
       "      <th>zipcode</th>\n",
       "      <th>population</th>\n",
       "      <th>store_count_migros</th>\n",
       "      <th>store_count_coop</th>\n",
       "      <th>total_stores</th>\n",
       "      <th>migros_share</th>\n",
       "      <th>coop_share</th>\n",
       "      <th>density of stores</th>\n",
       "      <th>potential</th>\n",
       "    </tr>\n",
       "  </thead>\n",
       "  <tbody>\n",
       "    <tr>\n",
       "      <th>0</th>\n",
       "      <td>8001</td>\n",
       "      <td>5468</td>\n",
       "      <td>3</td>\n",
       "      <td>5</td>\n",
       "      <td>8</td>\n",
       "      <td>0.375000</td>\n",
       "      <td>0.625000</td>\n",
       "      <td>14.630578</td>\n",
       "      <td>-7.0</td>\n",
       "    </tr>\n",
       "    <tr>\n",
       "      <th>1</th>\n",
       "      <td>8002</td>\n",
       "      <td>9696</td>\n",
       "      <td>2</td>\n",
       "      <td>2</td>\n",
       "      <td>4</td>\n",
       "      <td>0.500000</td>\n",
       "      <td>0.500000</td>\n",
       "      <td>4.125413</td>\n",
       "      <td>-2.0</td>\n",
       "    </tr>\n",
       "    <tr>\n",
       "      <th>2</th>\n",
       "      <td>8003</td>\n",
       "      <td>20210</td>\n",
       "      <td>1</td>\n",
       "      <td>2</td>\n",
       "      <td>3</td>\n",
       "      <td>0.333333</td>\n",
       "      <td>0.666667</td>\n",
       "      <td>1.484414</td>\n",
       "      <td>2.0</td>\n",
       "    </tr>\n",
       "    <tr>\n",
       "      <th>3</th>\n",
       "      <td>8004</td>\n",
       "      <td>26855</td>\n",
       "      <td>3</td>\n",
       "      <td>3</td>\n",
       "      <td>6</td>\n",
       "      <td>0.500000</td>\n",
       "      <td>0.500000</td>\n",
       "      <td>2.234221</td>\n",
       "      <td>0.0</td>\n",
       "    </tr>\n",
       "    <tr>\n",
       "      <th>4</th>\n",
       "      <td>8005</td>\n",
       "      <td>15555</td>\n",
       "      <td>4</td>\n",
       "      <td>6</td>\n",
       "      <td>10</td>\n",
       "      <td>0.400000</td>\n",
       "      <td>0.600000</td>\n",
       "      <td>6.428801</td>\n",
       "      <td>-6.0</td>\n",
       "    </tr>\n",
       "    <tr>\n",
       "      <th>5</th>\n",
       "      <td>8006</td>\n",
       "      <td>18284</td>\n",
       "      <td>1</td>\n",
       "      <td>2</td>\n",
       "      <td>3</td>\n",
       "      <td>0.333333</td>\n",
       "      <td>0.666667</td>\n",
       "      <td>1.640779</td>\n",
       "      <td>1.0</td>\n",
       "    </tr>\n",
       "    <tr>\n",
       "      <th>6</th>\n",
       "      <td>8008</td>\n",
       "      <td>17254</td>\n",
       "      <td>4</td>\n",
       "      <td>4</td>\n",
       "      <td>8</td>\n",
       "      <td>0.500000</td>\n",
       "      <td>0.500000</td>\n",
       "      <td>4.636606</td>\n",
       "      <td>-4.0</td>\n",
       "    </tr>\n",
       "    <tr>\n",
       "      <th>7</th>\n",
       "      <td>8032</td>\n",
       "      <td>17921</td>\n",
       "      <td>0</td>\n",
       "      <td>1</td>\n",
       "      <td>1</td>\n",
       "      <td>0.000000</td>\n",
       "      <td>1.000000</td>\n",
       "      <td>0.558005</td>\n",
       "      <td>3.0</td>\n",
       "    </tr>\n",
       "    <tr>\n",
       "      <th>8</th>\n",
       "      <td>8037</td>\n",
       "      <td>16008</td>\n",
       "      <td>2</td>\n",
       "      <td>2</td>\n",
       "      <td>4</td>\n",
       "      <td>0.500000</td>\n",
       "      <td>0.500000</td>\n",
       "      <td>2.498751</td>\n",
       "      <td>-0.0</td>\n",
       "    </tr>\n",
       "    <tr>\n",
       "      <th>9</th>\n",
       "      <td>8038</td>\n",
       "      <td>17634</td>\n",
       "      <td>2</td>\n",
       "      <td>2</td>\n",
       "      <td>4</td>\n",
       "      <td>0.500000</td>\n",
       "      <td>0.500000</td>\n",
       "      <td>2.268345</td>\n",
       "      <td>0.0</td>\n",
       "    </tr>\n",
       "    <tr>\n",
       "      <th>10</th>\n",
       "      <td>8041</td>\n",
       "      <td>8200</td>\n",
       "      <td>2</td>\n",
       "      <td>1</td>\n",
       "      <td>3</td>\n",
       "      <td>0.666667</td>\n",
       "      <td>0.333333</td>\n",
       "      <td>3.658537</td>\n",
       "      <td>-1.0</td>\n",
       "    </tr>\n",
       "    <tr>\n",
       "      <th>11</th>\n",
       "      <td>8044</td>\n",
       "      <td>11334</td>\n",
       "      <td>1</td>\n",
       "      <td>1</td>\n",
       "      <td>2</td>\n",
       "      <td>0.500000</td>\n",
       "      <td>0.500000</td>\n",
       "      <td>1.764602</td>\n",
       "      <td>1.0</td>\n",
       "    </tr>\n",
       "    <tr>\n",
       "      <th>12</th>\n",
       "      <td>8045</td>\n",
       "      <td>11117</td>\n",
       "      <td>1</td>\n",
       "      <td>3</td>\n",
       "      <td>4</td>\n",
       "      <td>0.250000</td>\n",
       "      <td>0.750000</td>\n",
       "      <td>3.598093</td>\n",
       "      <td>-1.0</td>\n",
       "    </tr>\n",
       "    <tr>\n",
       "      <th>13</th>\n",
       "      <td>8046</td>\n",
       "      <td>25366</td>\n",
       "      <td>1</td>\n",
       "      <td>2</td>\n",
       "      <td>3</td>\n",
       "      <td>0.333333</td>\n",
       "      <td>0.666667</td>\n",
       "      <td>1.182685</td>\n",
       "      <td>3.0</td>\n",
       "    </tr>\n",
       "    <tr>\n",
       "      <th>14</th>\n",
       "      <td>8047</td>\n",
       "      <td>20818</td>\n",
       "      <td>3</td>\n",
       "      <td>3</td>\n",
       "      <td>6</td>\n",
       "      <td>0.500000</td>\n",
       "      <td>0.500000</td>\n",
       "      <td>2.882121</td>\n",
       "      <td>-1.0</td>\n",
       "    </tr>\n",
       "    <tr>\n",
       "      <th>15</th>\n",
       "      <td>8048</td>\n",
       "      <td>30033</td>\n",
       "      <td>2</td>\n",
       "      <td>6</td>\n",
       "      <td>8</td>\n",
       "      <td>0.250000</td>\n",
       "      <td>0.750000</td>\n",
       "      <td>2.663737</td>\n",
       "      <td>-1.0</td>\n",
       "    </tr>\n",
       "    <tr>\n",
       "      <th>16</th>\n",
       "      <td>8049</td>\n",
       "      <td>23706</td>\n",
       "      <td>1</td>\n",
       "      <td>4</td>\n",
       "      <td>5</td>\n",
       "      <td>0.200000</td>\n",
       "      <td>0.800000</td>\n",
       "      <td>2.109171</td>\n",
       "      <td>1.0</td>\n",
       "    </tr>\n",
       "    <tr>\n",
       "      <th>17</th>\n",
       "      <td>8050</td>\n",
       "      <td>29922</td>\n",
       "      <td>1</td>\n",
       "      <td>6</td>\n",
       "      <td>7</td>\n",
       "      <td>0.142857</td>\n",
       "      <td>0.857143</td>\n",
       "      <td>2.339416</td>\n",
       "      <td>0.0</td>\n",
       "    </tr>\n",
       "    <tr>\n",
       "      <th>18</th>\n",
       "      <td>8051</td>\n",
       "      <td>22426</td>\n",
       "      <td>1</td>\n",
       "      <td>2</td>\n",
       "      <td>3</td>\n",
       "      <td>0.333333</td>\n",
       "      <td>0.666667</td>\n",
       "      <td>1.337733</td>\n",
       "      <td>2.0</td>\n",
       "    </tr>\n",
       "    <tr>\n",
       "      <th>19</th>\n",
       "      <td>8052</td>\n",
       "      <td>20014</td>\n",
       "      <td>1</td>\n",
       "      <td>1</td>\n",
       "      <td>2</td>\n",
       "      <td>0.500000</td>\n",
       "      <td>0.500000</td>\n",
       "      <td>0.999300</td>\n",
       "      <td>3.0</td>\n",
       "    </tr>\n",
       "    <tr>\n",
       "      <th>20</th>\n",
       "      <td>8053</td>\n",
       "      <td>11151</td>\n",
       "      <td>2</td>\n",
       "      <td>1</td>\n",
       "      <td>3</td>\n",
       "      <td>0.666667</td>\n",
       "      <td>0.333333</td>\n",
       "      <td>2.690342</td>\n",
       "      <td>-0.0</td>\n",
       "    </tr>\n",
       "    <tr>\n",
       "      <th>21</th>\n",
       "      <td>8055</td>\n",
       "      <td>19559</td>\n",
       "      <td>1</td>\n",
       "      <td>1</td>\n",
       "      <td>2</td>\n",
       "      <td>0.500000</td>\n",
       "      <td>0.500000</td>\n",
       "      <td>1.022547</td>\n",
       "      <td>3.0</td>\n",
       "    </tr>\n",
       "    <tr>\n",
       "      <th>22</th>\n",
       "      <td>8057</td>\n",
       "      <td>21786</td>\n",
       "      <td>1</td>\n",
       "      <td>1</td>\n",
       "      <td>2</td>\n",
       "      <td>0.500000</td>\n",
       "      <td>0.500000</td>\n",
       "      <td>0.918021</td>\n",
       "      <td>3.0</td>\n",
       "    </tr>\n",
       "    <tr>\n",
       "      <th>23</th>\n",
       "      <td>8064</td>\n",
       "      <td>3622</td>\n",
       "      <td>1</td>\n",
       "      <td>0</td>\n",
       "      <td>1</td>\n",
       "      <td>1.000000</td>\n",
       "      <td>0.000000</td>\n",
       "      <td>2.760906</td>\n",
       "      <td>-0.0</td>\n",
       "    </tr>\n",
       "  </tbody>\n",
       "</table>\n",
       "</div>"
      ],
      "text/plain": [
       "   zipcode  population  store_count_migros  store_count_coop  total_stores  \\\n",
       "0     8001        5468                   3                 5             8   \n",
       "1     8002        9696                   2                 2             4   \n",
       "2     8003       20210                   1                 2             3   \n",
       "3     8004       26855                   3                 3             6   \n",
       "4     8005       15555                   4                 6            10   \n",
       "5     8006       18284                   1                 2             3   \n",
       "6     8008       17254                   4                 4             8   \n",
       "7     8032       17921                   0                 1             1   \n",
       "8     8037       16008                   2                 2             4   \n",
       "9     8038       17634                   2                 2             4   \n",
       "10    8041        8200                   2                 1             3   \n",
       "11    8044       11334                   1                 1             2   \n",
       "12    8045       11117                   1                 3             4   \n",
       "13    8046       25366                   1                 2             3   \n",
       "14    8047       20818                   3                 3             6   \n",
       "15    8048       30033                   2                 6             8   \n",
       "16    8049       23706                   1                 4             5   \n",
       "17    8050       29922                   1                 6             7   \n",
       "18    8051       22426                   1                 2             3   \n",
       "19    8052       20014                   1                 1             2   \n",
       "20    8053       11151                   2                 1             3   \n",
       "21    8055       19559                   1                 1             2   \n",
       "22    8057       21786                   1                 1             2   \n",
       "23    8064        3622                   1                 0             1   \n",
       "\n",
       "    migros_share  coop_share  density of stores  potential  \n",
       "0       0.375000    0.625000          14.630578       -7.0  \n",
       "1       0.500000    0.500000           4.125413       -2.0  \n",
       "2       0.333333    0.666667           1.484414        2.0  \n",
       "3       0.500000    0.500000           2.234221        0.0  \n",
       "4       0.400000    0.600000           6.428801       -6.0  \n",
       "5       0.333333    0.666667           1.640779        1.0  \n",
       "6       0.500000    0.500000           4.636606       -4.0  \n",
       "7       0.000000    1.000000           0.558005        3.0  \n",
       "8       0.500000    0.500000           2.498751       -0.0  \n",
       "9       0.500000    0.500000           2.268345        0.0  \n",
       "10      0.666667    0.333333           3.658537       -1.0  \n",
       "11      0.500000    0.500000           1.764602        1.0  \n",
       "12      0.250000    0.750000           3.598093       -1.0  \n",
       "13      0.333333    0.666667           1.182685        3.0  \n",
       "14      0.500000    0.500000           2.882121       -1.0  \n",
       "15      0.250000    0.750000           2.663737       -1.0  \n",
       "16      0.200000    0.800000           2.109171        1.0  \n",
       "17      0.142857    0.857143           2.339416        0.0  \n",
       "18      0.333333    0.666667           1.337733        2.0  \n",
       "19      0.500000    0.500000           0.999300        3.0  \n",
       "20      0.666667    0.333333           2.690342       -0.0  \n",
       "21      0.500000    0.500000           1.022547        3.0  \n",
       "22      0.500000    0.500000           0.918021        3.0  \n",
       "23      1.000000    0.000000           2.760906       -0.0  "
      ]
     },
     "execution_count": 117,
     "metadata": {},
     "output_type": "execute_result"
    }
   ],
   "source": [
    "average=df_new[\"total_stores\"].sum()/df_new[\"population\"].sum()\n",
    "potential=(average*df_new[\"population\"])-df_new[\"total_stores\"]\n",
    "df_new[\"potential\"]= round(potential)\n",
    "df_new"
   ]
  },
  {
   "cell_type": "code",
   "execution_count": 119,
   "id": "d3d78e42-cb1f-4df6-a00a-9cff172fc571",
   "metadata": {
    "tags": []
   },
   "outputs": [
    {
     "data": {
      "text/html": [
       "<iframe\n",
       "    scrolling=\"no\"\n",
       "    width=\"100%\"\n",
       "    height=\"545px\"\n",
       "    src=\"iframe_figures/figure_119.html\"\n",
       "    frameborder=\"0\"\n",
       "    allowfullscreen\n",
       "></iframe>\n"
      ]
     },
     "metadata": {},
     "output_type": "display_data"
    }
   ],
   "source": [
    "fig = go.Figure(data=[go.Bar(x=df_new[\"zipcode\"], y=df_new[\"potential\"], name=\"Migros potential to open stores\", marker_color=\"Orange\")])\n",
    "fig.update_layout(xaxis_title=\"Zipcode\",yaxis_title=\"Potential stores(Number of more stores migros can open\",\n",
    "                  title_text=\"Potential new stores based on store density and less stores in the area\",\n",
    "                  plot_bgcolor=\"white\", xaxis_tickangle=45)\n",
    "fig.show()\n",
    "fig.write_image(\"fig9.svg\")"
   ]
  },
  {
   "cell_type": "code",
   "execution_count": 82,
   "id": "c1f02466-fe58-4b23-8f54-8e7296d04da3",
   "metadata": {
    "tags": []
   },
   "outputs": [],
   "source": [
    "fig.write_image(\"fig8.png\")"
   ]
  },
  {
   "cell_type": "code",
   "execution_count": null,
   "id": "4f2c9ba0-7d94-4b58-9420-7ad99fa88ab4",
   "metadata": {},
   "outputs": [],
   "source": []
  },
  {
   "cell_type": "code",
   "execution_count": null,
   "id": "5f7d30d2-8c31-4326-b588-8e118ef79661",
   "metadata": {},
   "outputs": [],
   "source": [
    "Strategy 2:"
   ]
  },
  {
   "cell_type": "code",
   "execution_count": null,
   "id": "d79ed93e-6e9f-4a42-b5b6-d4bfaea839c7",
   "metadata": {},
   "outputs": [],
   "source": [
    "Bar plots Based on counts of stores"
   ]
  },
  {
   "cell_type": "code",
   "execution_count": 107,
   "id": "cda57cff-1180-47ea-8b2d-1d7a0946a3d2",
   "metadata": {
    "tags": []
   },
   "outputs": [
    {
     "data": {
      "text/html": [
       "<iframe\n",
       "    scrolling=\"no\"\n",
       "    width=\"100%\"\n",
       "    height=\"545px\"\n",
       "    src=\"iframe_figures/figure_107.html\"\n",
       "    frameborder=\"0\"\n",
       "    allowfullscreen\n",
       "></iframe>\n"
      ]
     },
     "metadata": {},
     "output_type": "display_data"
    }
   ],
   "source": [
    "fig = go.Figure(data=[go.Bar(x=df_new[\"zipcode\"], y=df_new[\"store_count_migros\"], name=\"Migros\"),\n",
    "                     go.Bar(x=df_new[\"zipcode\"], y=df_new[\"store_count_coop\"],name=\"COOP\")])\n",
    "fig.show()"
   ]
  },
  {
   "cell_type": "code",
   "execution_count": null,
   "id": "24045da0-c9f5-44b9-b4d9-3950c168cdb4",
   "metadata": {},
   "outputs": [],
   "source": [
    "Bar plots Based on market share of stores"
   ]
  },
  {
   "cell_type": "code",
   "execution_count": 108,
   "id": "bd0e36a7-eb03-4bb5-9491-9f82b46bd8ff",
   "metadata": {
    "tags": []
   },
   "outputs": [
    {
     "data": {
      "text/html": [
       "<iframe\n",
       "    scrolling=\"no\"\n",
       "    width=\"100%\"\n",
       "    height=\"545px\"\n",
       "    src=\"iframe_figures/figure_108.html\"\n",
       "    frameborder=\"0\"\n",
       "    allowfullscreen\n",
       "></iframe>\n"
      ]
     },
     "metadata": {},
     "output_type": "display_data"
    }
   ],
   "source": [
    "fig = go.Figure(data=[go.Bar(x=df_new[\"zipcode\"], y=df_new[\"migros_share\"], name=\"Migros Market share\"),\n",
    "                     go.Bar(x=df_new[\"zipcode\"], y=df_new[\"coop_share\"],name=\"COOP Market Share\")])\n",
    "fig.show()"
   ]
  },
  {
   "cell_type": "code",
   "execution_count": 80,
   "id": "802d91bc-ad43-4efe-9e52-fc0c85f484a0",
   "metadata": {
    "tags": []
   },
   "outputs": [],
   "source": [
    "fig.write_image(\"fig3.png\")"
   ]
  },
  {
   "cell_type": "code",
   "execution_count": null,
   "id": "9f84e938-9f86-4660-bc28-47bbb230d912",
   "metadata": {},
   "outputs": [],
   "source": [
    "Plots where Migros_share >Coop Share"
   ]
  },
  {
   "cell_type": "code",
   "execution_count": 109,
   "id": "d7a26f7e-f81d-4539-8d30-cdd0654790d3",
   "metadata": {
    "tags": []
   },
   "outputs": [
    {
     "data": {
      "text/html": [
       "<iframe\n",
       "    scrolling=\"no\"\n",
       "    width=\"100%\"\n",
       "    height=\"545px\"\n",
       "    src=\"iframe_figures/figure_109.html\"\n",
       "    frameborder=\"0\"\n",
       "    allowfullscreen\n",
       "></iframe>\n"
      ]
     },
     "metadata": {},
     "output_type": "display_data"
    }
   ],
   "source": [
    "df_migros_share=df_new[df_new[\"migros_share\"]>df_new[\"coop_share\"]]\n",
    "fig = go.Figure(data=[go.Bar(x=df_migros_share[\"zipcode\"], y=df_migros_share[\"migros_share\"], name=\"Migros Market share\"),\n",
    "                     go.Bar(x=df_migros_share[\"zipcode\"], y=df_migros_share[\"coop_share\"],name=\"COOP Market Share\")])\n",
    "\n",
    "fig.update_layout(\n",
    "    \n",
    ")\n",
    "fig.show()"
   ]
  },
  {
   "cell_type": "code",
   "execution_count": null,
   "id": "fd49a316-0399-46fc-be6d-3041da5ae747",
   "metadata": {},
   "outputs": [],
   "source": [
    "Plots where Migros_share < Coop Share-- Case 3- Showing Potential Upcoming Migros"
   ]
  },
  {
   "cell_type": "code",
   "execution_count": 82,
   "id": "66a74e0b-3373-4cb9-896c-175cbaf752d2",
   "metadata": {
    "tags": []
   },
   "outputs": [
    {
     "data": {
      "text/html": [
       "<iframe\n",
       "    scrolling=\"no\"\n",
       "    width=\"100%\"\n",
       "    height=\"545px\"\n",
       "    src=\"iframe_figures/figure_82.html\"\n",
       "    frameborder=\"0\"\n",
       "    allowfullscreen\n",
       "></iframe>\n"
      ]
     },
     "metadata": {},
     "output_type": "display_data"
    }
   ],
   "source": [
    "df_coop_share=df_new[df_new[\"migros_share\"]<df_new[\"coop_share\"]]\n",
    "fig = go.Figure(data=[go.Bar(x=df_coop_share[\"zipcode\"], y=df_coop_share[\"migros_share\"], name=\"Migros Market share\"),\n",
    "                     go.Bar(x=df_coop_share[\"zipcode\"], y=df_coop_share[\"coop_share\"],name=\"COOP Market Share\")])\n",
    "fig.show()"
   ]
  },
  {
   "cell_type": "code",
   "execution_count": 111,
   "id": "bce6b32f-3ed8-420f-a782-24c989c74798",
   "metadata": {
    "tags": []
   },
   "outputs": [
    {
     "data": {
      "text/html": [
       "<iframe\n",
       "    scrolling=\"no\"\n",
       "    width=\"100%\"\n",
       "    height=\"545px\"\n",
       "    src=\"iframe_figures/figure_111.html\"\n",
       "    frameborder=\"0\"\n",
       "    allowfullscreen\n",
       "></iframe>\n"
      ]
     },
     "metadata": {},
     "output_type": "display_data"
    }
   ],
   "source": [
    "df_coop_share=df_new[df_new[\"migros_share\"]<df_new[\"coop_share\"]]\n",
    "fig = go.Figure(data=[go.Bar(x=df_coop_share[\"zipcode\"], y=df_coop_share[\"population\"], \n",
    "                             name=\"Population\")])\n",
    "fig.update_layout(xaxis_title=\"Zipcode\",yaxis_title=\"Population\",title_text=\"Population for selected zip codes where coop share> migros share\")\n",
    "fig.show()\n"
   ]
  },
  {
   "cell_type": "code",
   "execution_count": 112,
   "id": "1e4b0872-d5e6-4eeb-a5de-55c35114fa91",
   "metadata": {
    "tags": []
   },
   "outputs": [
    {
     "data": {
      "text/plain": [
       "17652.956521739132"
      ]
     },
     "execution_count": 112,
     "metadata": {},
     "output_type": "execute_result"
    }
   ],
   "source": [
    "average_pop=df_new[\"population\"].mean()\n",
    "average_pop"
   ]
  },
  {
   "cell_type": "code",
   "execution_count": 114,
   "id": "62026565-bc16-4b2e-8815-5afca1bacb65",
   "metadata": {
    "tags": []
   },
   "outputs": [
    {
     "data": {
      "text/html": [
       "<div>\n",
       "<style scoped>\n",
       "    .dataframe tbody tr th:only-of-type {\n",
       "        vertical-align: middle;\n",
       "    }\n",
       "\n",
       "    .dataframe tbody tr th {\n",
       "        vertical-align: top;\n",
       "    }\n",
       "\n",
       "    .dataframe thead th {\n",
       "        text-align: right;\n",
       "    }\n",
       "</style>\n",
       "<table border=\"1\" class=\"dataframe\">\n",
       "  <thead>\n",
       "    <tr style=\"text-align: right;\">\n",
       "      <th></th>\n",
       "      <th>zipcode</th>\n",
       "      <th>population</th>\n",
       "      <th>store_count_migros</th>\n",
       "      <th>store_count_coop</th>\n",
       "      <th>total_stores</th>\n",
       "      <th>migros_share</th>\n",
       "      <th>coop_share</th>\n",
       "      <th>potential</th>\n",
       "    </tr>\n",
       "  </thead>\n",
       "  <tbody>\n",
       "    <tr>\n",
       "      <th>2</th>\n",
       "      <td>8003</td>\n",
       "      <td>20210</td>\n",
       "      <td>1</td>\n",
       "      <td>2</td>\n",
       "      <td>3</td>\n",
       "      <td>0.333333</td>\n",
       "      <td>0.666667</td>\n",
       "      <td>2.0</td>\n",
       "    </tr>\n",
       "    <tr>\n",
       "      <th>5</th>\n",
       "      <td>8006</td>\n",
       "      <td>18284</td>\n",
       "      <td>1</td>\n",
       "      <td>2</td>\n",
       "      <td>3</td>\n",
       "      <td>0.333333</td>\n",
       "      <td>0.666667</td>\n",
       "      <td>2.0</td>\n",
       "    </tr>\n",
       "    <tr>\n",
       "      <th>12</th>\n",
       "      <td>8046</td>\n",
       "      <td>25366</td>\n",
       "      <td>1</td>\n",
       "      <td>2</td>\n",
       "      <td>3</td>\n",
       "      <td>0.333333</td>\n",
       "      <td>0.666667</td>\n",
       "      <td>3.0</td>\n",
       "    </tr>\n",
       "    <tr>\n",
       "      <th>14</th>\n",
       "      <td>8048</td>\n",
       "      <td>30033</td>\n",
       "      <td>2</td>\n",
       "      <td>6</td>\n",
       "      <td>8</td>\n",
       "      <td>0.250000</td>\n",
       "      <td>0.750000</td>\n",
       "      <td>-1.0</td>\n",
       "    </tr>\n",
       "    <tr>\n",
       "      <th>15</th>\n",
       "      <td>8049</td>\n",
       "      <td>23706</td>\n",
       "      <td>1</td>\n",
       "      <td>4</td>\n",
       "      <td>5</td>\n",
       "      <td>0.200000</td>\n",
       "      <td>0.800000</td>\n",
       "      <td>1.0</td>\n",
       "    </tr>\n",
       "    <tr>\n",
       "      <th>16</th>\n",
       "      <td>8050</td>\n",
       "      <td>29922</td>\n",
       "      <td>1</td>\n",
       "      <td>6</td>\n",
       "      <td>7</td>\n",
       "      <td>0.142857</td>\n",
       "      <td>0.857143</td>\n",
       "      <td>0.0</td>\n",
       "    </tr>\n",
       "    <tr>\n",
       "      <th>17</th>\n",
       "      <td>8051</td>\n",
       "      <td>22426</td>\n",
       "      <td>1</td>\n",
       "      <td>2</td>\n",
       "      <td>3</td>\n",
       "      <td>0.333333</td>\n",
       "      <td>0.666667</td>\n",
       "      <td>3.0</td>\n",
       "    </tr>\n",
       "  </tbody>\n",
       "</table>\n",
       "</div>"
      ],
      "text/plain": [
       "   zipcode  population  store_count_migros  store_count_coop  total_stores  \\\n",
       "2     8003       20210                   1                 2             3   \n",
       "5     8006       18284                   1                 2             3   \n",
       "12    8046       25366                   1                 2             3   \n",
       "14    8048       30033                   2                 6             8   \n",
       "15    8049       23706                   1                 4             5   \n",
       "16    8050       29922                   1                 6             7   \n",
       "17    8051       22426                   1                 2             3   \n",
       "\n",
       "    migros_share  coop_share  potential  \n",
       "2       0.333333    0.666667        2.0  \n",
       "5       0.333333    0.666667        2.0  \n",
       "12      0.333333    0.666667        3.0  \n",
       "14      0.250000    0.750000       -1.0  \n",
       "15      0.200000    0.800000        1.0  \n",
       "16      0.142857    0.857143        0.0  \n",
       "17      0.333333    0.666667        3.0  "
      ]
     },
     "execution_count": 114,
     "metadata": {},
     "output_type": "execute_result"
    }
   ],
   "source": [
    "df_potential=df_coop_share[df_coop_share[\"population\"]>average_pop]\n",
    "df_potential"
   ]
  },
  {
   "cell_type": "code",
   "execution_count": 115,
   "id": "2b6f493f-ab16-424b-bd6a-b0a84464ab5e",
   "metadata": {
    "tags": []
   },
   "outputs": [
    {
     "data": {
      "text/html": [
       "<iframe\n",
       "    scrolling=\"no\"\n",
       "    width=\"100%\"\n",
       "    height=\"545px\"\n",
       "    src=\"iframe_figures/figure_115.html\"\n",
       "    frameborder=\"0\"\n",
       "    allowfullscreen\n",
       "></iframe>\n"
      ]
     },
     "metadata": {},
     "output_type": "display_data"
    }
   ],
   "source": [
    "fig = go.Figure(data=[go.Bar(x=df_potential[\"zipcode\"], y=df_potential[\"potential\"], name=\"Migros potential to open stores\")])\n",
    "fig.update_layout(xaxis_title=\"Zipcode\",yaxis_title=\"Potential stores(Number of more stores migros can open\",title_text=\"Potential new stores based on high competitor stores and high population\")\n",
    "fig.show()"
   ]
  },
  {
   "cell_type": "code",
   "execution_count": 63,
   "id": "55f328ff-ab63-4730-ad52-31105af03c81",
   "metadata": {
    "tags": []
   },
   "outputs": [],
   "source": [
    "fig.write_image(\"fig6.png\")"
   ]
  },
  {
   "cell_type": "code",
   "execution_count": null,
   "id": "43990a13-a3a1-4373-805f-3420cb561890",
   "metadata": {},
   "outputs": [],
   "source": [
    "Case 2- Where both stores are same"
   ]
  },
  {
   "cell_type": "code",
   "execution_count": 116,
   "id": "23d6e7da-36e0-4f52-986e-a3ea78581a73",
   "metadata": {
    "tags": []
   },
   "outputs": [
    {
     "data": {
      "text/html": [
       "<iframe\n",
       "    scrolling=\"no\"\n",
       "    width=\"100%\"\n",
       "    height=\"545px\"\n",
       "    src=\"iframe_figures/figure_116.html\"\n",
       "    frameborder=\"0\"\n",
       "    allowfullscreen\n",
       "></iframe>\n"
      ]
     },
     "metadata": {},
     "output_type": "display_data"
    }
   ],
   "source": [
    "df_equal_share=df_new[df_new[\"migros_share\"]==df_new[\"coop_share\"]]\n",
    "fig = go.Figure(data=[go.Bar(x=df_equal_share[\"zipcode\"], y=df_equal_share[\"migros_share\"], name=\"Migros Market share\"),\n",
    "                     go.Bar(x=df_equal_share[\"zipcode\"], y=df_equal_share[\"coop_share\"],name=\"COOP Market Share\")])\n",
    "fig.show()"
   ]
  },
  {
   "cell_type": "code",
   "execution_count": 98,
   "id": "196645b6-824c-4b2f-8ffc-6f6c6a53efff",
   "metadata": {
    "tags": []
   },
   "outputs": [
    {
     "name": "stdout",
     "output_type": "stream",
     "text": [
      "Requirement already satisfied: kaleido in d:\\anaconda\\envs\\ds_toolkit\\lib\\site-packages (0.2.1)\n",
      "Note: you may need to restart the kernel to use updated packages.\n"
     ]
    }
   ],
   "source": [
    "pip install kaleido\n"
   ]
  },
  {
   "cell_type": "code",
   "execution_count": 51,
   "id": "327ebfbf-d776-4a43-befe-6c65e04b420f",
   "metadata": {
    "tags": []
   },
   "outputs": [],
   "source": [
    "fig.write_image(\"fig2.png\")"
   ]
  },
  {
   "cell_type": "code",
   "execution_count": null,
   "id": "0da74c1d-7060-4698-81ff-d773ac0594c5",
   "metadata": {},
   "outputs": [],
   "source": []
  }
 ],
 "metadata": {
  "kernelspec": {
   "display_name": "ds_toolkit",
   "language": "python",
   "name": "ds_toolkit"
  },
  "language_info": {
   "codemirror_mode": {
    "name": "ipython",
    "version": 3
   },
   "file_extension": ".py",
   "mimetype": "text/x-python",
   "name": "python",
   "nbconvert_exporter": "python",
   "pygments_lexer": "ipython3",
   "version": "3.10.11"
  }
 },
 "nbformat": 4,
 "nbformat_minor": 5
}
