{
  "cells": [
    {
      "cell_type": "markdown",
      "id": "e9d8ad1e-372b-4428-ab65-99fa6e50edbd",
      "metadata": {
        "id": "e9d8ad1e-372b-4428-ab65-99fa6e50edbd"
      },
      "source": [
        "# Create maps of indicators for Zurich city using zipcodes"
      ]
    },
    {
      "cell_type": "code",
      "execution_count": null,
      "id": "83e48224-27f1-44bf-8fc5-8e1fddf82926",
      "metadata": {
        "id": "83e48224-27f1-44bf-8fc5-8e1fddf82926"
      },
      "outputs": [],
      "source": [
        "import json\n",
        "\n",
        "import pandas as pd\n",
        "\n",
        "import plotly.graph_objects as go\n",
        "import plotly.express as px\n",
        "import plotly.io as pio"
      ]
    },
    {
      "cell_type": "markdown",
      "id": "1bedab5f-fb9c-4ed3-b053-369ec636db3f",
      "metadata": {
        "id": "1bedab5f-fb9c-4ed3-b053-369ec636db3f"
      },
      "source": [
        "## 1. To create maps, we need a geojson file for the zip codes of Switzerland\n",
        "\n",
        "Luckily, they are provided by this github account https://github.com/mikpan\n",
        "\n",
        "One needs to downloaded the \"ch-plz.geojson\" file in the following folder, where PLZ (Postleitzahl) refers to zipcode.\n",
        "\n",
        "https://github.com/mikpan/ch-maps/tree/master/geo"
      ]
    },
    {
      "cell_type": "code",
      "execution_count": null,
      "id": "be3da704-e546-48ad-af0b-31c879206531",
      "metadata": {
        "id": "be3da704-e546-48ad-af0b-31c879206531"
      },
      "outputs": [],
      "source": [
        "# load the geojson file for zipcodes\n",
        "with open(\"data/ch-plz.geojson\") as response:\n",
        "    zipcodes = json.load(response)"
      ]
    },
    {
      "cell_type": "code",
      "execution_count": null,
      "id": "94044744-7c12-4db5-82db-8e9dcd81a4bb",
      "metadata": {
        "id": "94044744-7c12-4db5-82db-8e9dcd81a4bb"
      },
      "outputs": [],
      "source": [
        "# Uncomment if you want to look at the structure of the geojson\n",
        "# zipcodes[\"features\"][0]"
      ]
    },
    {
      "cell_type": "markdown",
      "id": "2135829f-464d-449c-bd45-d3fe12fb620b",
      "metadata": {
        "id": "2135829f-464d-449c-bd45-d3fe12fb620b"
      },
      "source": [
        "## 2. Load the data on zipcode, population and stores merged and provided by Rena"
      ]
    },
    {
      "cell_type": "code",
      "execution_count": null,
      "id": "241c8b4c-ca4d-41bf-95f5-d1cc385a548d",
      "metadata": {
        "id": "241c8b4c-ca4d-41bf-95f5-d1cc385a548d"
      },
      "outputs": [],
      "source": [
        "migros_all_data = pd.read_csv(\"data/migros_all_data.csv\", index_col=0)\n",
        "migros_all_data # first row with zipcode 8000 will be ignored anyway, since no correspondence in geojson"
      ]
    },
    {
      "cell_type": "markdown",
      "id": "eab73cfa-4ecb-4812-ab14-7730797b22a3",
      "metadata": {
        "id": "eab73cfa-4ecb-4812-ab14-7730797b22a3"
      },
      "source": [
        "#### Generate some additional columns"
      ]
    },
    {
      "cell_type": "code",
      "execution_count": null,
      "id": "ab3e3fd9-8616-4884-a5e0-ee715394a305",
      "metadata": {
        "id": "ab3e3fd9-8616-4884-a5e0-ee715394a305"
      },
      "outputs": [],
      "source": [
        "# total stores (migros + coop)\n",
        "migros_all_data[\"store_count_total\"] = migros_all_data[\"store_count_migros\"] + migros_all_data[\"store_count_coop\"]\n",
        "\n",
        "# measures of store density\n",
        "\n",
        "## total stores per 10000 people\n",
        "migros_all_data[\"total_stores_per_10k\"] = (migros_all_data[\"store_count_total\"]/migros_all_data[\"population\"])*10000\n",
        "\n",
        "## total stores per 10000 people\n",
        "migros_all_data[\"migros_stores_per_10k\"] = (migros_all_data[\"store_count_migros\"]/migros_all_data[\"population\"])*10000\n",
        "\n",
        "## total stores per 10000 people\n",
        "migros_all_data[\"coop_stores_per_10k\"] = (migros_all_data[\"store_count_coop\"]/migros_all_data[\"population\"])*10000\n",
        "\n",
        "# measures of market share\n",
        "migros_all_data[\"share_migros\"] = (migros_all_data[\"store_count_migros\"]/migros_all_data[\"store_count_total\"])\n",
        "migros_all_data[\"share_coop\"] = (migros_all_data[\"store_count_coop\"]/migros_all_data[\"store_count_total\"])"
      ]
    },
    {
      "cell_type": "code",
      "execution_count": null,
      "id": "c1f9a84d-9758-472c-9362-da9991ee1fd1",
      "metadata": {
        "id": "c1f9a84d-9758-472c-9362-da9991ee1fd1"
      },
      "outputs": [],
      "source": [
        "migros_all_data"
      ]
    },
    {
      "cell_type": "markdown",
      "id": "9ccb0f8b-e12d-4310-a6ec-6455e8a2aa95",
      "metadata": {
        "id": "9ccb0f8b-e12d-4310-a6ec-6455e8a2aa95"
      },
      "source": [
        "## 3. Prelimary plots using plotly express and choropleth_mapbox"
      ]
    },
    {
      "cell_type": "markdown",
      "id": "e6f30ed8-b349-4df1-b7a5-547dcc3c6721",
      "metadata": {
        "id": "e6f30ed8-b349-4df1-b7a5-547dcc3c6721"
      },
      "source": [
        "##### Map of total stores per 10000 people"
      ]
    },
    {
      "cell_type": "code",
      "execution_count": null,
      "id": "7e718050-9914-40e6-84ac-6d4f03ecc66b",
      "metadata": {
        "id": "7e718050-9914-40e6-84ac-6d4f03ecc66b"
      },
      "outputs": [],
      "source": [
        "fig = px.choropleth_mapbox(\n",
        "        migros_all_data, geojson=zipcodes, color=\"total_stores_per_10k\",\n",
        "        locations=\"zipcode\",\n",
        "        mapbox_style=\"carto-positron\",\n",
        "        center={\"lat\": 47.36667, \"lon\": 8.55}, zoom=10,\n",
        "        range_color=[0, max(migros_all_data[\"total_stores_per_10k\"])])\n",
        "\n",
        "fig.update_layout(\n",
        "       margin={\"r\":0,\"t\":0,\"l\":0,\"b\":0})\n",
        "\n",
        "fig.show()"
      ]
    },
    {
      "cell_type": "markdown",
      "id": "5fd85b4f-bd67-43ff-b90d-bcb386b5da63",
      "metadata": {
        "id": "5fd85b4f-bd67-43ff-b90d-bcb386b5da63"
      },
      "source": [
        "##### Map of Migros stores per 10000 people"
      ]
    },
    {
      "cell_type": "code",
      "execution_count": null,
      "id": "5961f278-eccb-4572-b4b7-4512cd3f3a1b",
      "metadata": {
        "id": "5961f278-eccb-4572-b4b7-4512cd3f3a1b"
      },
      "outputs": [],
      "source": [
        "fig = px.choropleth_mapbox(\n",
        "        migros_all_data, geojson=zipcodes, color=\"migros_stores_per_10k\",\n",
        "        locations=\"zipcode\",\n",
        "        mapbox_style=\"carto-positron\",\n",
        "        center={\"lat\": 47.36667, \"lon\": 8.55}, zoom=10,\n",
        "        range_color=[0, max(migros_all_data[\"migros_stores_per_10k\"])])\n",
        "\n",
        "fig.update_layout(\n",
        "       margin={\"r\":0,\"t\":0,\"l\":0,\"b\":0})\n",
        "\n",
        "fig.show()"
      ]
    },
    {
      "cell_type": "markdown",
      "id": "b1e8665e-d9ba-4c20-aad7-a8d8d3969564",
      "metadata": {
        "id": "b1e8665e-d9ba-4c20-aad7-a8d8d3969564"
      },
      "source": [
        "##### Map of Coop stores per 10000 people"
      ]
    },
    {
      "cell_type": "code",
      "execution_count": null,
      "id": "fd9600d3-9595-4dc5-8653-a49b3db9f683",
      "metadata": {
        "id": "fd9600d3-9595-4dc5-8653-a49b3db9f683"
      },
      "outputs": [],
      "source": [
        "fig = px.choropleth_mapbox(\n",
        "        migros_all_data, geojson=zipcodes, color=\"coop_stores_per_10k\",\n",
        "        locations=\"zipcode\",\n",
        "        mapbox_style=\"carto-positron\",\n",
        "        center={\"lat\": 47.36667, \"lon\": 8.55}, zoom=10,\n",
        "        range_color=[0, max(migros_all_data[\"coop_stores_per_10k\"])])\n",
        "\n",
        "fig.update_layout(\n",
        "       margin={\"r\":0,\"t\":0,\"l\":0,\"b\":0})\n",
        "\n",
        "fig.show()"
      ]
    },
    {
      "cell_type": "markdown",
      "id": "0bdf149b-c971-4f51-8cf5-102375be5b47",
      "metadata": {
        "id": "0bdf149b-c971-4f51-8cf5-102375be5b47"
      },
      "source": [
        "##### Share of Migros stores (Share of Coop stores will just be the opposite)"
      ]
    },
    {
      "cell_type": "code",
      "execution_count": null,
      "id": "2692f832-1b5d-4f75-bbdc-3a4019a73c05",
      "metadata": {
        "id": "2692f832-1b5d-4f75-bbdc-3a4019a73c05"
      },
      "outputs": [],
      "source": [
        "fig = px.choropleth_mapbox(\n",
        "        migros_all_data, geojson=zipcodes, color=\"share_migros\",\n",
        "        locations=\"zipcode\",\n",
        "        mapbox_style=\"carto-positron\",\n",
        "        center={\"lat\": 47.36667, \"lon\": 8.55}, zoom=10,\n",
        "        range_color=[0, max(migros_all_data[\"share_migros\"])])\n",
        "\n",
        "fig.update_layout(\n",
        "       margin={\"r\":0,\"t\":0,\"l\":0,\"b\":0})\n",
        "\n",
        "fig.show()"
      ]
    },
    {
      "cell_type": "code",
      "execution_count": null,
      "id": "a87594e2-2fc3-4c5e-b973-af605646e657",
      "metadata": {
        "id": "a87594e2-2fc3-4c5e-b973-af605646e657"
      },
      "outputs": [],
      "source": []
    }
  ],
  "metadata": {
    "kernelspec": {
      "display_name": "ds_toolkit",
      "language": "python",
      "name": "ds_toolkit"
    },
    "language_info": {
      "codemirror_mode": {
        "name": "ipython",
        "version": 3
      },
      "file_extension": ".py",
      "mimetype": "text/x-python",
      "name": "python",
      "nbconvert_exporter": "python",
      "pygments_lexer": "ipython3",
      "version": "3.10.11"
    },
    "colab": {
      "provenance": []
    }
  },
  "nbformat": 4,
  "nbformat_minor": 5
}