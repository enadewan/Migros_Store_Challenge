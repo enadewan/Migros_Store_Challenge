{
 "cells": [
  {
   "cell_type": "code",
   "execution_count": 1,
   "id": "dc3f58e1-ca9d-4441-ad98-1bca4e65a529",
   "metadata": {},
   "outputs": [],
   "source": [
    "import requests\n",
    "import pandas as pd\n",
    "from bs4 import BeautifulSoup\n",
    "import selenium"
   ]
  },
  {
   "cell_type": "code",
   "execution_count": 2,
   "id": "bcb22eef-86a1-4ded-b76b-d038b4b2c469",
   "metadata": {},
   "outputs": [],
   "source": [
    "from selenium import webdriver\n",
    "from selenium.webdriver.chrome.service import Service\n",
    "from selenium.webdriver.chrome.options import Options\n",
    "from selenium.webdriver.common.by import By\n",
    "from selenium.webdriver.support.ui import WebDriverWait\n",
    "from selenium.webdriver.support import expected_conditions as EC"
   ]
  },
  {
   "cell_type": "code",
   "execution_count": 3,
   "id": "5282134a-8e91-4ce3-a66c-8b6b3f9ead13",
   "metadata": {},
   "outputs": [],
   "source": [
    "# webdriver_path = '/Users/xinyuepan/opt/anaconda3/envs/DS_Toolkit/bin:/Users/xinyuepan/opt/anaconda3/condabin:/usr/local/bin:/usr/local/sbin:/Library/Frameworks/Python.framework/Versions/3.8/bin:/usr/local/bin:/System/Cryptexes/App/usr/bin:/usr/bin:/bin:/usr/sbin:/sbin:/var/run/com.apple.security.cryptexd/codex.system/bootstrap/usr/local/bin:/var/run/com.apple.security.cryptexd/codex.system/bootstrap/usr/bin:/var/run/com.apple.security.cryptexd/codex.system/bootstrap/usr/appleinternal/bin'\n",
    "driver = webdriver.Chrome(service=Service())"
   ]
  },
  {
   "cell_type": "code",
   "execution_count": 4,
   "id": "03365445-50e5-4019-a9bf-bbac85a1fdf8",
   "metadata": {},
   "outputs": [
    {
     "data": {
      "text/plain": [
       "<selenium.webdriver.remote.webelement.WebElement (session=\"f56a4276c3fc6b5229afdd2ff54b351a\", element=\"DE3BE65B2DA64DB6DB6FFE971196449E_element_30\")>"
      ]
     },
     "execution_count": 4,
     "metadata": {},
     "output_type": "execute_result"
    }
   ],
   "source": [
    "driver.get('https://filialen.migros.ch/de/filter:markets-%5Bsuper.voi.mp%5D/center:46.8182,8.2275/zoom:8/')\n",
    "wait = WebDriverWait(driver, 10)\n",
    "wait.until(EC.presence_of_element_located((By.TAG_NAME, 'body')))\n"
   ]
  },
  {
   "cell_type": "code",
   "execution_count": 13,
   "id": "0fd05535-092d-4e54-9d37-3c349734039f",
   "metadata": {},
   "outputs": [],
   "source": [
    "store_dict = {}"
   ]
  },
  {
   "cell_type": "code",
   "execution_count": 139,
   "id": "33494ea4-921c-4e5e-9ae3-05b33b41da05",
   "metadata": {},
   "outputs": [],
   "source": [
    "html_content = driver.page_source\n",
    "soup = BeautifulSoup(html_content,\"html.parser\")"
   ]
  },
  {
   "cell_type": "code",
   "execution_count": 140,
   "id": "e7230e65-1900-4d45-88a8-26440159ec12",
   "metadata": {},
   "outputs": [
    {
     "name": "stdout",
     "output_type": "stream",
     "text": [
      "771\n",
      "teo Neuhegi\n"
     ]
    }
   ],
   "source": [
    "stores = soup.find_all('li',{'class':'sc-dPFVfm eHYuDp'})\n",
    "for store in stores:\n",
    "    store_name = store.find('span',{'class':'sc-eYVAha jlVxJL'}).text\n",
    "    store_address = store.find('p',{'class':'sc-hlfjlA kiDzXg'}).text\n",
    "    store_dict[store_name] = store_address\n",
    "print(len(store_dict))\n",
    "print(list(store_dict.keys())[-1])"
   ]
  },
  {
   "cell_type": "code",
   "execution_count": 148,
   "id": "49dea891-833f-464a-be5f-1db61ff19414",
   "metadata": {
    "collapsed": true,
    "jupyter": {
     "outputs_hidden": true
    },
    "tags": []
   },
   "outputs": [
    {
     "data": {
      "text/plain": [
       "dict_items([('Aachtal', 'Schrofenstrasse 19, 8580 Amriswil'), ('Aadorf', 'Bahnhofstrasse 2, 8355 Aadorf'), ('Aarau - Igelweid', 'Igelweid 18, 5000 Aarau'), ('Aarau Bahnhof', 'Bahnhofplatz 3h, 5000 Aarau'), ('Abtwil - Säntispark', 'Wiesenbachstrasse 7, 9030 Abtwil SG'), ('Adligenswil', 'Obgardirain 1, 6043 Adligenswil'), ('Adliswil', 'Albisstrasse 10, 8134 Adliswil'), ('Aesch', 'Hauptstrasse 95, 4147 Aesch'), ('Affoltern a. A.', 'Oberdorfstrasse 4, 8910 Affoltern am Albis'), ('Agy', \"route d'Agy 2, 1763 Granges-Paccot\"), ('Aigle - Chablais Centre', 'Ch. Sous-le-Grand Pré 4, 1860 Aigle'), ('Aigle gare', 'Place de la gare 5, 1860 Aigle'), ('Allschwil - Paradies', 'Spitzwaldstrasse 215, 4123 Allschwil'), ('Allschwil - Ziegelei', 'Baslerstrasse 191, 4123 Allschwil'), ('Allschwil-Lindenplatz', 'Lindenplatz 1, 4123 Allschwil'), ('Altdorf', 'Gitschenstrasse 14, 6460 Altdorf'), ('Altstätten SG', 'Stossstrasse 2, 9450 Altstätten SG'), ('Amriswil', 'Rütistrasse 10a, 8580 Amriswil'), ('Andelfingen', 'Weinlandstrasse 4, 8451 Kleinandelfingen'), ('Appenzell', 'Unteres Ziel, 9050 Appenzell'), ('Arbedo Castione', 'Via Corogna, 6532 Castione'), ('Arbon', 'St. Gallerstrasse 6, 9320 Arbon'), ('Arlesheim', 'Postplatz 7, 4144 Arlesheim'), ('Ascona', 'Via Muraccio 2, 6612 Ascona'), ('Au SG', 'Nollenhornstrasse 9, 9434 Au SG'), ('Avenches', 'Route de Pré-Vert 5, 1580 Avenches'), ('Avry Centre', 'Route de Matran 9, 1754 Avry-sur-Matran'), ('Baar', 'Bahnhofstrasse 5, 6340 Baar'), ('Bad Ragaz', 'Bahnhofstrasse 2, 7310 Bad Ragaz'), ('Bad Zurzach', 'Promenadenstrasse 10, 5330 Bad Zurzach'), ('Baden - City', 'Bahnhofstrasse 40/42, 5400 Baden'), ('Balsthal', 'Goldgasse 13, 4710 Balsthal'), ('Basel - Allschwiler', 'Allschwilerstrasse 31, 4055 Basel'), ('Basel - Bahnhof SBB', 'Centralbahnstrasse 10, 4051 Basel'), ('Basel - Birsigstrasse', 'Birsigstrasse 105, 4054 Basel'), ('Basel - Burgfelder', 'Burgfelderstrasse 11, 4055 Basel'), ('Basel - Claramarkt', 'Untere Rebgasse 11, 4058 Basel'), ('Basel - Drachen-Center', 'Aeschenvorstadt 24, 4051 Basel'), ('Basel - Dreispitz MParc', 'Münchensteinerstrasse 200, 4053 Basel'), ('Basel - Efringer', 'Efringerstrasse 32, 4057 Basel'), ('Basel - Eglisee', 'Riehenstrasse 315, 4058 Basel'), ('Basel - Gundelitor', 'Güterstrasse 180, 4053 Basel'), ('Basel - Hardstrasse', 'Hardstrasse 105, 4052 Basel'), ('Basel - Inselstrasse', 'Inselstrasse 63, 4057 Basel'), ('Basel - Juniors Market', 'Grenzacherstrasse 62/64, 4058 Basel'), ('Basel - Lachenstrasse', 'Lachenstrasse 1, 4056 Basel'), ('Basel - Lehenmatt', 'Lehenmattstrasse 260, 4052 Basel'), ('Basel - Märtplatz', 'Eisengasse 12, 4051 Basel'), ('Basel - Mülhauser', 'Mülhauserstrasse 70-72, 4056 Basel'), ('Basel - Neuweiler', 'Neuweilerplatz 7, 4054 Basel'), ('Basel - Schützenmatt', 'Schützenmattstrasse 27, 4051 Basel'), ('Basel - Stücki', 'Hochbergerstrasse 70, 4057 Basel'), ('Basel - Wanderstrasse', 'Wanderstrasse 121, 4054 Basel'), ('Basel - Wasgenring', 'Blotzheimerstrasse 61, 4055 Basel'), ('Basel - Zürcherstrasse', 'Zürcherstrasse 160, 4052 Basel'), ('Bassersdorf', 'Baltenswilerstrasse 5a, 8303 Bassersdorf'), ('Bauma', 'Heinrich - Gujerstrasse 10, 8494 Bauma'), ('Bavois', 'Autoroute A1, Restoroute de Bavois, 1372 Bavois'), ('Bazenheid', 'Wilerstrasse 17, 9602 Bazenheid'), ('Beauregard', 'Chemin de Béthléem 7, 1700 Fribourg'), ('Belfaux', 'route de Lossy 16b, 1782 Belfaux'), ('Bellinzona - Piazza del Sole', 'Piazza Rinaldo Simen 8, 6500 Bellinzona'), ('Belp', 'Steinbachstrasse 28, 3123 Belp'), ('Berikon - Mutschellen', 'Bellikerstrasse 13, 8965 Berikon'), ('Beringen', 'Schaffhauserstrasse 72, 8222 Beringen'), ('Bern - Bachmätteli', 'Bottigenstrasse 7, 3018 Bern'), ('Bern - Bahnhof', 'Bahnhofplatz 10, 3011 Bern'), ('Bern - Bethlehem', 'Riedbachstrasse 10, 3027 Bern'), ('Bern - Breitenrain', 'Breitenrainstrasse 11, 3013 Bern'), ('Bern - Bubenberg', 'Bubenbergplatz 8, 3011 Bern'), ('Bern - Christoffel', 'Christoffelunterführung, 3011 Bern'), ('Bern - Egghölzli', 'Egghölzlistrasse 1 / 1a, 3006 Bern'), ('Bern - Eigerplatz', 'Seftigenstrasse 1, 3007 Bern'), ('Bern - Freudenberg', 'Giacomettistrasse 15, 3006 Bern'), ('Bern - Kirchenfeld', 'Thunstrasse 18, 3005 Bern'), ('Bern - Lorraine', 'Dammweg 9, 3013 Bern'), ('Bern - Marktgasse', 'Marktgasse 46, 3011 Bern'), ('Bern - Murifeld', 'Jupiterstrasse 15, 3015 Bern'), ('Bern - Welle 7', 'Schanzenstrasse 5, 3000 Bern'), ('Bern - Westside', 'Gilberte-de-Courgenay-Platz 4, 3027 Bern'), ('Bern - Winkelried', 'Wankdorffeldstrasse 71, 3014 Bern'), ('Bern - Zähringer', 'Zähringerstrasse 43, 3012 Bern'), ('Bern Burgernziel', 'Thunstrasse 110, 3006 Bern'), ('Bern Westflügel', 'Bethlehemstrasse 40, 3027 Bern'), ('Bex', 'Rue Centrale 43-45, 1880 Bex'), ('Biasca', 'Via General Guisan 26, 6710 Biasca'), ('Biberist', 'Hauptstrasse 21, 4562 Biberist'), ('Biel - Bielerhof', 'Bahnhofstrasse 15, 2502 Biel/Bienne'), ('Biel - Bözingen', 'Schlösslistrasse 7, 2504 Biel/Bienne'), ('Biel - Madretsch', 'Brüggstrasse 5, 2503 Biel/Bienne'), ('Biel - Neumarkt', 'Kanalgasse 36-38, 2502 Biel/Bienne'), ('Biel Stadion', 'Sportallee 20, 2503 Biel'), ('Binningen - Gorenmatt', 'Gorenmattstrasse 17, 4102 Binningen'), ('Binningen - Zentrum', 'Hauptstrasse 71, 4102 Binningen'), ('Birmensdorf', 'Zürcherstrasse 15, 8903 Birmensdorf ZH'), ('Birsfelden', 'Chrischonastrasse 2, 4127 Birsfelden'), ('Bischofszell', 'Steigstrasse 5, 9220 Bischofszell'), ('Bitsch', 'Furkastrasse, 3982 Bitsch'), ('Bière', 'Le Centre, 1145 Bière'), ('Blonay', 'Route du Village 37, 1807 Blonay'), ('Bonstetten', 'Schachenstrasse 115, 8906 Bonstetten'), ('Boudry', 'Avenue du Collège 37, 2017 Boudry'), ('Breitenbach - Wydehof', 'Laufenstrasse 4, 4226 Breitenbach'), ('Bremgarten AG', 'Zufikerstrasse 2, 5620 Bremgarten AG'), ('Bremgarten Kalchacker', 'Kalchackerstrasse 9, 3047 Bremgarten b. Bern'), ('Brienz', 'Hauptstrasse 51, 3855 Brienz BE'), ('Brig', 'Belalpstrasse 1, 3900 Brig'), ('Bronschhofen', 'Amp-Strasse 2, 9552 Bronschhofen'), ('Brugg - Neumarkt', 'Neumarkt 1, 5200 Brugg AG'), ('Brunnen - Bahnhofsmärcht', 'Bahnhofplatz 19, 6440 Brunnen'), ('Brügg - Centre Brügg', 'Erlenstrasse 40, 2555 Brügg b. Biel'), ('Bubendorf', 'Grüngenstrasse 1, 4416 Bubendorf'), ('Buchrain - Tschannhof', 'Unterdorfstrasse, 6033 Buchrain'), ('Buchs AG - Wynecenter', 'Bresteneggstrasse 9b, 5033 Buchs AG'), ('Buchs SG', 'Churerstrasse 10, 9470 Buchs SG'), ('Buochs', 'Ennetbürgerstrasse 45, 6374 Buochs'), ('Burgdorf - Neumarkt', 'Lyssachstrasse 27, 3400 Burgdorf'), ('Bussigny', 'Rue de la Gare 2, 1030 Bussigny-Lausanne'), ('Bülach - Sonnenhof', 'Bahnhofstrasse 28, 8180 Bülach'), ('Bülach Süd', 'Feldstrasse 85, 8180 Bülach'), ('Bürglen/Altdorf - Urnertor', 'Gotthardstrasse 67, 6460 Altdorf UR'), ('Bütschwil', 'Landstrasse 41, 9606 Bütschwil'), ('Campagna Adorna', 'Via Campagna Adorna, 6850 Mendrisio'), ('Carouge', 'Rue du Marché 16, 1227 Carouge GE'), ('Carouge - Acacias', 'Rue Gustave-Revilliod 4, 1227 Carouge GE'), ('Carouge - MParc La Praille', 'Avenue Vibert 32, 1227 Carouge GE'), ('Carouge - Vibert', 'Avenue Vibert 29, 1227 Carouge GE'), ('Caslano', 'Via Stazione 80, 6987 Caslano'), ('Cassarate', 'Viale Castagnola, 6900 Lugano'), ('Centre la Tour', 'Route de Pra-Riond 2, 1635 La Tour-de-Trême'), ('Centro Agno', 'Via Lugano 21, 6982 Agno'), ('Centro S.Antonino', 'Via Serrai 5, 6592 S. Antonino'), ('Cernier', 'Rue Comble-Emine 5, 2053 Cernier'), ('Cham - Neudorf', 'Zugerstrasse 15/17, 6330 Cham'), ('Chamoson', 'Chemin Neuf 2, 1955 Chamoson'), ('Charrière', 'Rue de la Charrière 71, 2300 La Chaux-de-Fonds'), ('Chavannes - Renens', 'Avenue du Tir-Fédéral 12, 1022 Chavannes-Renens'), ('Chavannes les Cèdres', 'Avenue de la Gare 84, 1022 Chavannes-près-Renens'), ('Chiasso - Boffalora', 'Via Bernardino Luini, 6830 Chiasso'), ('Chur - Calandapark', 'Pargherastrasse 1-3, 7000 Chur'), ('Chur - Gäuggeli', 'Gäuggelistrasse 28, 7000 Chur'), ('Chur - Ringstrasse', 'Ringstrasse 91, 7000 Chur'), ('Chur Masans', 'Masanserstrasse 240, 7000 Chur'), ('Churwalden', 'Hauptstrasse 146, 7075 Churwalden'), (\"Château-d'Oex\", \"Grand rue 102, 1660 Château-d'Oex\"), ('Châtel-St-Denis', 'Rte de Montreux 56, 1618 Châtel-St-Denis'), ('Chêne-Bourg', 'Avenue de Bel-Air 12, 1225 Chêne-Bourg'), ('Clarens - Centre', 'Rue du Léman 9, 1815 Clarens'), ('Collombey', 'Entre-deux-Fossaux, 1868 Collombey'), ('Collonge-Bellerive - Vésenaz', 'Route de Thonon 55, 1245 Collonge-Bellerive'), ('Colombier', 'Avenue de la Gare 16, 2013 Colombier NE'), ('Conthey - Forum des Alpes', 'Route des Rottes 15, 1964 Conthey'), ('Cormanon', 'Rue du centre 4, 1752 Villars-sur-Glâne'), ('Cortaillod', 'Chemin de Ronzi 2, 2016 Cortaillod'), ('Cossonay', 'Route des Chavannes 1, 1304 Cossonay-Ville'), ('Courtepin', \"Route de l'Industrie 25, 1784 Courtepin\"), ('Crans', 'Rue du Grand-Place 7, 3964 Crans-Montana'), ('Crans-Montana', 'Route du Rawyl 32, 3963 Crans-Montana'), ('Crissier', 'Chemin du Closalet 7, 1023 Crissier'), ('Crocifisso di Savosa', 'Via San Gottardo 150, 6942 Savosa'), ('Cugy', 'Route de Bottens 1, 1053 Cugy VD'), ('Daily Zürich-Zollstrasse', 'Zollstrasse 6, 8005 Zürich'), ('Davos Symondpark', 'Promenade 105, 7270 Davos Platz'), ('Davos-Dorf', 'Promenade 146, 7260 Davos Dorf'), ('Degersheim', 'Hauptstrasse 81, 9113 Degersheim'), ('Delémont', 'Rue de la Maltière 12, 2800 Delémont'), ('Derendingen', 'Hauptstrasse 22, 4552 Derendingen'), ('Dielsdorf', 'Ruchwiesenstrasse 2, 8157 Dielsdorf'), ('Diepoldsau', 'Hintere Kirchstrasse 1, 9444 Diepoldsau'), ('Diessenhofen', 'Bahnhofstrasse 15, 8253 Diessenhofen'), ('Dietikon - Limmatfeld', 'Überlandstrasse 22, 8953 Dietikon'), ('Dietikon - Löwenzentrum', 'Löwenstrasse 28, 8953 Dietikon'), ('Dietlikon - Brunnenwiese', 'Pappelstrasse 2, 8305 Dietlikon'), ('Domat-Ems', 'Via La Val 1, 7013 Domat/Ems'), ('Domdidier', 'Grand-Rhain 54, 1564 Domdidier'), ('Dornach', 'Wollmattweg 7, 4143 Dornach'), ('Dättnau', 'Ziegeleiplatz 2, 8406 Dättnau'), ('Döttingen', 'Hauptstrasse 17, 5312 Döttingen'), ('Dübendorf', 'Unterdorfstrasse 7, 8600 Dübendorf'), ('Dübendorf - Hochbord Nord', 'Neugutstrasse 83, 8600 Dübendorf'), ('Dübendorf Stettbach', 'Am Stadtrand 5, 8600 Dübendorf'), ('Düdingen', 'Käsereistrasse 3, 3186 Düdingen'), ('Ebikon - Ladengasse', 'Zentralstrasse 16, 6030 Ebikon'), ('Ebikon - Mall of Switzerland', 'Ebisquare-Strasse 1, 6030 Ebikon'), ('Ebmatingen', 'Zürichstrasse 108, 8123 Ebmatingen'), ('Ebnat-Kappel', 'Kapplerstrasse 16, 9642 Ebnat-Kappel'), ('Echallens', 'Rue de Praz-Palud 2, 1040 Echallens'), ('Ecublens - Croset', 'chemin du Croset 7, 1024 Ecublens VD'), ('Ecublens - EPFL', 'Louis Favre 8A, 1024 Ecublens VD'), ('Effretikon - Effi-Märt', 'Märtplatz 5, 8307 Effretikon'), ('Egerkingen - Gäupark', 'Hausimollstrasse 1, 4622 Egerkingen'), ('Egg', 'Gewerbestrasse 2-10, 8132 Egg b. Zürich'), ('Eglisau-Nord', 'Bauelenzelgstrasse 16, 8193 Eglisau'), ('Egolzwil - Schötz', 'Grossmatt 1, 6243 Egolzwil'), ('Einsiedeln', 'Eisenbahnstrasse 2, 8840 Einsiedeln'), ('Elgg', 'St. Gallerstrasse 16, 8353 Elgg'), ('Embrach', 'Bülacherstrasse 17, 8424 Embrach'), ('Emmen - Kapf', 'Kapfstrasse 3, 6020 Emmenbrücke'), ('Emmen - Wohncenter', 'Seetalstrasse 50, 6020 Emmenbrücke'), ('Emmenbrücke - Sonnenplatz', 'Sonnenplatz 1, 6020 Emmenbrücke'), ('Engelberg', 'Klosterstrasse 5, 6390 Engelberg'), ('Epalinges', 'Place de la Croix-Blanche 11, 1066 Epalinges'), ('Erde', 'Scex-Riond / CP 48, 1976 Erde'), ('Erlenbach - Erlibacher Märt', 'Bahnhofstrasse 42, 8703 Erlenbach ZH'), ('Erlinsbach', 'Zentrum Rössli, 5018 Erlinsbach AG'), ('Erstfeld', 'Gotthardstrasse 144, 6472 Erstfeld'), ('Eschenbach', 'Rickenstrasse 12, 8733 Eschenbach SG'), ('Estavayer-le-Lac', 'Route de la Chapelle 24, 1470 Estavayer-le-Lac'), ('Etoy', 'Route Suisse 26, 1163 Etoy'), ('Etrembières (F)', 'CC Shopping-Etrembières, 74112 Etrembières'), ('Ettingen', 'Therwilerstrasse 9, 4107 Ettingen'), ('FL - Balzers', 'Landstrasse 20, 9496 Balzers'), ('FL - Ruggell', 'Landstrasse 33, 9491 Ruggell'), ('Fahrwangen', 'Hintergasse 12, 5615 Fahrwangen'), ('Faido', 'Via Pian della Croce, 6760 Faido'), ('Fehraltorf', 'Grundstrasse 4, 8320 Fehraltorf'), ('Fiesch', 'Furkastrasse 46, 3984 Fiesch'), ('Fislisbach', 'Badenerstrasse 7d, 5442 Fislisbach'), ('Flamatt', 'Bernstrasse 36, 3175 Flamatt'), ('Flawil', 'Magdenauerstrasse 10, 9230 Flawil'), ('Fleurier', 'Grand-Rue 27, 2114 Fleurier'), ('Frauenfeld - Multiplex', 'Langfeldstrasse 53a, 8500 Frauenfeld'), ('Frauenfeld - Passage', 'Bahnhofstrasse 70-72, 8500 Frauenfeld'), ('Frauenfeld - Zeughausstrasse', 'Zürcherstrasse 227, 8500 Frauenfeld'), ('Frick', 'Hauptstrasse 44, 5070 Frick'), ('Frutigen', 'Kanderstegstrasse 31, 3714 Frutigen'), ('Fully', 'Rue de Provence 4, 1926 Fully'), ('Fällanden', 'Unterdorfstrasse 2, 8117 Fällanden'), ('Füllinsdorf - Schönthal', 'Ergolzstrasse 2, 4414 Füllinsdorf'), ('Gare Fribourg', \"Rue Louis-d'Affry 2, 1701 Fribourg\"), ('Gare de Bulle', 'Place de la Gare, 1630 Bulle'), ('Gd Saconnex - Le Pommier', 'Rue Sonnex 20, 1218 Le Grand-Saconnex'), ('Gebenstorf', 'Wambisterstrasse, 5412 Gebenstorf'), ('Gelterkinden', 'Badweg 2, 4460 Gelterkinden'), ('Genève - Balexert', 'Avenue Louis-Casaï 27, 1211 Genève 28'), ('Genève - Champel', 'Avenue de Champel 61, 1206 Genève'), ('Genève - Charmilles', \"Promenade de l'Europe 11, 1203 Genève\"), ('Genève - Cointrin Aéroport', \"Route de l'Aéroport 25, 1215 Genève 15 Aéroport\"), ('Genève - Cornavin Gare', 'Place de Cornavin 3-7, 1201 Genève'), ('Genève - Eaux-Vives', 'Rue des Eaux-Vives 17-19, 1207 Genève'), ('Genève - Fusterie M-Express', 'Place de la Fusterie 7, 1204 Genève'), ('Genève - Jonction', 'Boulevard Carl-Vogt 6, 1205 Genève'), ('Genève - Les Cygnes', 'Rue de Lausanne 18-20, 1201 Genève'), ('Genève - Navigation', 'Rue des Paquis 41, 1201 Genève'), ('Genève - Plainpalais', 'Rue de Carouge 64, 1205 Genève'), ('Genève - Rieu', 'Route de Florissant 86, 1206 Genève'), ('Genève - Servette', 'Rue de la Servette 75, 1202 Genève'), ('Genève - Tourelle', 'Chemin de la Tourelle 2-4, 1209 Genève'), ('Genève - Vidollet', 'Rue du Vidollet 5, 1202 Genève'), ('Genève - Villereuse', 'Rue de la Terrassière 29, 1207 Genève'), ('Gerlafingen', 'Friedhofstrasse 1, 4563 Gerlafingen'), ('Giubiasco - Alle Bolle', 'Via Bellinzona 33, 6512 Giubiasco'), ('Gland', 'Rue de Mauverney 22, 1196 Gland'), ('Glarus - Zentrum Glärnisch', 'Schweizerhofstrasse 6, 8750 Glarus'), ('Glattbrugg', 'Wallisellerstrasse 8, 8152 Glattbrugg'), ('Glis - Simplon', 'Kantonsstrasse 58, 3902 Glis'), ('Goldach', 'Ulrich-Rösch-Strasse 5, 9403 Goldach'), ('Goldau', 'Parkstrasse 25, 6410 Goldau'), ('Gossau', 'St. Gallerstrasse 115, 9200 Gossau SG'), ('Gossau - Stadtbühlpark', 'Stadtbühlstrasse 12, 9200 Gossau SG'), ('Gossau ZH', 'Im Zentrum 3, 8625 Gossau ZH'), ('Grabs', 'Staatsstrasse 89, 9472 Grabs'), ('Gradelle', 'Chemin de la Gradelle 10, 1224 Chêne-Bougeries'), ('Grancia', 'Via Cantonale 28, 6916 Grancia'), ('Grand-Lancy - Palettes', 'Av. des Communes-Réunies 52, 1212 Grand-Lancy'), ('Grande Béroche', 'Rue de Combamare 21, 2025 Chez-le-Bart'), ('Granges - Paccot', \"Route d'Englisberg 15b, 1763 Granges-Paccot\"), ('Greifensee', 'Meierwis, 8606 Greifensee'), ('Grenchen', 'Freiestrasse 10, 2540 Grenchen'), ('Gruyère-Centre', \"Rue Château d'En-Bas 2, 1630 Bulle\"), ('Gränichen', 'Lindenplatz 2, 5722 Gränichen'), ('Gstaad', 'Untergstaadstrasse 3, 3780 Gstaad'), ('Gümligen', 'Turbenweg 1, 3073 Gümligen'), ('Hasle Rüegsau', 'Emmenau 3, 3415 Hasle-Rüegsau'), ('Haute-Nendaz', 'Lake Placid, rte des Ecluses 23, 1997 Haute-Nendaz'), ('Heiden', 'Sonnentalstrasse 2, 9410 Heiden'), ('Heimberg', 'Bernstrasse 223, 3627 Heimberg'), ('Herisau', 'Gartenstrasse 2, 9100 Herisau'), ('Herisau - Alpsteinstrasse', 'Alpsteinstrasse 8b, 9100 Herisau'), ('Herzogenbuchsee', 'Bernstrasse 33, 3360 Herzogenbuchsee'), ('Hilterfingen', 'Staatsstrasse 16b, 3652 Hilterfingen'), ('Hinterkappelen - Chappelemärit', 'Kappelenring 2, 3032 Hinterkappelen'), ('Hinwil', 'Bachtelstrasse 16, 8340 Hinwil'), ('Hittnau', 'Jakob Stutz-Strasse 75, 8335 Hittnau'), ('Hitzkirch', 'Richensee 2, 6285 Hitzkirch'), ('Hochdorf - Seetal-Center', 'Hauptstrasse 5, 6280 Hochdorf'), ('Hombrechtikon', 'Rütistrasse 16, 8634 Hombrechtikon'), ('Horgen - Schinzenhof', 'Alte Landstrasse 24, 8810 Horgen'), ('Horn', 'Seestrasse 119, 9326 Horn'), ('Horw', 'Gemeindehausplatz 14+15, 6048 Horw'), ('Huttwil', 'Bernstrasse 6, 4950 Huttwil'), ('Hôpital', \"Rue de l'Hôpital 12, 2000 Neuchâtel\"), ('Hünenberg Dorf', 'Maihölzli 5, 6331 Hünenberg'), ('Hünibach', 'Staatsstrasse 134, 3626 Hünibach'), ('Ibach-Schwyz - Mythen-Center', 'Mythen-Centerstr. 18, 6438 Ibach'), ('Ilanz - Center Marcau', 'Poststrasse 4, 7130 Ilanz'), ('Interlaken', 'Rugenparkstrasse 1, 3800 Interlaken'), ('Ipsach', 'Dorfstrasse 1, 2563 Ipsach'), ('Ittigen', 'Talweg 6, 3063 Ittigen'), ('Jona - Stadttor', 'Molkereistrasse 5, 8645 Jona'), ('Kaltbrunn', 'Uznacherstrasse 1, 8722 Kaltbrunn'), ('Kerzers', 'Murtenstrasse 15, 3210 Kerzers'), ('Kirchberg', 'Solothurnstrasse 17a, 3422 Kirchberg BE'), ('Kirchberg-Stelz', 'Wilerstrasse 204, 9533 Kirchberg SG'), ('Kloten', 'Kirchgasse 5, 8302 Kloten'), ('Kollbrunn', 'Tösstalstrasse 24, 8483 Kollbrunn'), ('Konolfingen', 'Thunstrasse 17, 3510 Konolfingen'), ('Kreuzlingen', 'Hauptstrasse 63, 8280 Kreuzlingen'), ('Kreuzlingen - Seepark', 'Bleichestrasse 15, 8280 Kreuzlingen'), ('Kriens - Hofmatt', 'Luzernerstrasse 30, 6010 Kriens'), ('Kriens - Mattenhof', 'Am Mattenhof 2, 6010 Kriens'), ('Köniz - Bläuacker', 'Bläuacker 10, 3098 Köniz'), ('Küsnacht ZH', 'Zürichstrasse 149, 8700 Küsnacht ZH'), ('Küssnacht - Rigimärt', 'Siegwartstrasse 11, 6403 Küssnacht am Rigi'), ('La Neuveville', 'Chemin des Vergers 20, 2520 La Neuveville'), ('La Roche', 'Haut de Scherwil 2, 1634 La Roche FR'), ('La Tour-de-Peilz', 'Place des Anciens-Fossés 10B, 1814 La Tour-de-Peilz'), ('La Tour-de-Trême Tivoli', \"Rue de l'Ancien Comté 17b, 1635 La Tour-de-Trême\"), ('La Vallée', 'Rue de la Gare 7, 1347 Le Sentier'), ('Lachen', 'Feldstrasse 6, 8853 Lachen SZ'), ('Lancy-Onex', 'Rue des Bossons 78-80, 1213 Petit-Lancy'), ('Landquart', 'Bahnhofstrasse 54, 7302 Landquart'), ('Langendorf - Ladedorf', 'Fabrikstrasse 6, 4513 Langendorf'), ('Langenthal', 'Wiesenstrasse 28, 4900 Langenthal'), ('Langnau a. A.', 'Hintere Grundstrasse 2, 8135 Langnau am Albis'), ('Langnau i.E.', 'Schlossstrasse 1a, 3550 Langnau i. E.'), ('Laufen - Birscenter', 'Bahnhofstrasse 4, 4242 Laufen'), ('Lausanne - Bellevaux', 'Route Aloys-Fauquez 97, 1018 Lausanne'), ('Lausanne - Bergières', 'Avenue des Bergières 50, 1004 Lausanne'), ('Lausanne - Chailly', 'Avenue de la Vallonnette 2, 1012 Lausanne'), ('Lausanne - Closelet', \"Avenue d'Ouchy 11, 1006 Lausanne\"), ('Lausanne - Cour', 'Avenue de Cour 36, 1007 Lausanne'), ('Lausanne - Flon Europe', \"Place de l'Europe 8, 1003 Lausanne\"), ('Lausanne - La Borde', 'Rue de la Borde 3B, 1018 Lausanne'), ('Lausanne - La Harpe', 'Avenue de la Harpe 17, 1007 Lausanne'), ('Lausanne - La Sallaz', 'Route de Berne 1, 1010 Lausanne'), ('Lausanne - Métropole', 'Rue des Terreaux 25, 1003 Lausanne'), ('Lausanne - Saint-Paul', \"Avenue d'Echallens 63, 1004 Lausanne\"), ('Lausanne - Sévelin', 'Av. de Sévelin 2 Ab, 1007 Lausanne'), ('Le Bouveret', 'En Bellossy, 1897 Bouveret'), ('Le Châble', 'Route de Verbier 15, 1934 Le Châble VS'), ('Le Landeron', 'Route de Neuchâtel 40, 2525 Le Landeron'), ('Le Lignon', 'Place du Lignon 29 A, 1219 Le Lignon'), ('Le Locle', 'Rue Bournot 35, 2400 Le Locle'), ('Lenzburg', 'Bachstrasse 15, 5600 Lenzburg'), ('Les Cadolles', 'Rue du Plan 28, 2000 Neuchâtel'), ('Les Eplatures', 'Charles Naine 44, 2300 La Chaux-de-Fonds'), ('Leuk', 'Konsumgenossenschaft, 3953 Leuk Stadt'), ('Leukerbad', 'Kantonstrasse, 3954 Leukerbad'), ('Leytron', 'Giro Union, 1912 Leytron'), ('Liestal', 'Kasernenstrasse 8, 4410 Liestal'), ('Locarno', 'Via Stefano Franscini 31, 6600 Locarno'), ('Locarno - Solduno', 'Via A. Franzoni 43, 6604 Locarno'), ('Losone', 'Via dei Pioppi 2A, 6616 Losone'), ('Lostorf', 'Hauptstrasse 20, 4654 Lostorf'), ('Lugano - Città', 'Via Pretorio 15, 6900 Lugano'), ('Lugano - Molino Nuovo', 'Via Monte Boglia 5, 6900 Lugano'), ('Lugano - Paradiso', 'Via Geretta, 6902 Lugano 2 Paradiso Caselle'), ('Lupfig', 'Flachsacherstrasse 17, 5242 Lupfig'), ('Lutry – La Conversion', 'Route de la Conversion 314, 1093 La Conversion'), ('Luzern - Allmend', 'Zihlmattweg 46, 6005 Luzern'), ('Luzern - Bahnhof', 'Zentralstrasse 1, 6003 Luzern'), ('Luzern - Bahnhof Daily', 'Zentralstrasse 7, 6003 Luzern'), ('Luzern - Bruchstrasse', 'Bruchstrasse 18, 6003 Luzern'), ('Luzern - Brüelstrasse', 'Kreuzbuchstrasse 53, 6006 Luzern'), ('Luzern - Grossmatte', 'Luzernerstrasse 143, 6014 Luzern'), ('Luzern - Schlossberg', 'Friedentalstrasse 6, 6004 Luzern'), ('Luzern - Schweizerhof', 'Hertensteinstrasse 9, 6004 Luzern'), ('Luzern - Schönbühl', 'Langensandstr. 23, 6005 Luzern'), ('Luzern - Waldstätter', 'Winkelriedstrasse 58, 6003 Luzern'), ('Luzern - Würzenbachstrasse', 'Würzenbachstrasse 19, 6006 Luzern'), ('Lyss Lyssbachpark', 'Steinweg 28, 3250 Lyss'), ('M-Express Pont-Rouge', 'Esplanade de Pont-Rouge 2, 1212 Grand-Lancy'), ('MP La Sarraz', 'Chemin des Prés-Morés 2, 1315 La Sarraz'), ('MP Ouchy', 'Avenue de Rhodanie 2, 1007 Lausanne'), ('Maggia', 'Via Cantonale, 6673 Maggia'), ('Malters', 'Weihermatte 7a/7b, 6102 Malters'), ('Marché FR', 'Rue St-Pierre 2, 1700 Fribourg'), ('Marin Centre', 'Rue Fleur-de-Lys 26, 2074 Marin-Epagnier'), ('Marly', 'Route des Pralettes 1, 1723 Marly'), ('Martigny - Manoir', 'Rue du Manoir 1, 1920 Martigny'), ('Martigny Finettes', 'Rue des Avouillons 1, 1920 Martigny'), ('Martigny Quartz Center', 'Avenue de Fully 63, 1920 Martigny'), ('Massagno - Radio', 'Via Besso 74, 6900 Massagno'), ('Matten', 'Aegertiweg 33, 3812 Wilderswil'), ('Matzingen', 'Frauenfelderstrasse 95, 9548 Matzingen'), ('Maupas', 'Rue du Maupas 69, 1004 Lausanne'), ('Meilen', 'Rosengartenstrasse 10, 8706 Meilen'), ('Meiringen', 'Bahnhofstrasse 1, 3860 Meiringen'), ('Melano', 'Via Cantonale, 6818 Melano'), ('Mellingen', 'Lenzburgerstrasse 50, 5507 Mellingen'), ('Mels - Pizolpark', 'Grossfeldstrasse 56, 8879 Pizolpark (Mels)'), ('Mendrisio', 'Via L. Lavizzari 2, Piazza alla Valle, 6850 Mendrisio'), ('Menziken', 'Sagiweg 8, 5737 Menziken'), ('Metro Shopping', 'Rue du Mont-Blanc 30, 1201 Genève'), ('Meyrin', 'Avenue de Feuillasse 24, 1217 Meyrin'), ('Minusio - Centro Borenco', 'Via S.Gottardo 56, 6648 Minusio'), ('Montagny', 'En Chamard, 1442 Montagny-près-Yverdon'), ('Monthey - M Central', 'Avenue de la Gare 36, 1870 Monthey'), ('Montreux', 'Place du Marché 6, 1820 Montreux'), ('Morat', 'Bernstrasse 18, 3280 Murten'), ('Morbio Inferiore - Serfontana', 'Viale Serfontana 20, 6834 Morbio Inferiore'), ('Morges', 'Rue de la gare 19, 1110 Morges'), ('Moudon', 'Avenue de la Grande Fin 1, 1510 Moudon'), ('Moutier', \"Rue de l'Ecluse 1, 2740 Moutier\"), ('Murgenthal', 'Fahrackerstrasse 1, 4853 Murgenthal'), ('Muri AG', 'Kirchfeldstrasse 8, 5630 Muri AG'), ('Muttenz - Lutzert', 'Lutzertstrasse 40, 4132 Muttenz'), ('Muttenz - Rothausstrasse', 'Rothausstrasse 17, 4132 Muttenz'), ('Männedorf', 'Alte Landstrasse 262, 8708 Männedorf'), ('Métropole Centre MS', 'Rue Daniel-Jeanrichard 23, 2300 La Chaux-de-Fonds'), ('Mézières', \"Route de la Croix d'Or 2, 1083 Mézières VD\"), ('Möhlin', 'Hauptstrasse 91, 4313 Möhlin'), ('Müllheim', 'Thurstrasse 3, 8555 Müllheim Dorf'), ('Münchenbuchsee - Tanne', 'Bernstrasse 14, 3053 Münchenbuchsee'), ('Münchenstein - Gartenstadt', 'Kaspar Pfeiffer-Strasse 2, 4142 Münchenstein'), ('Münchwilen', 'Wilerstrasse 5, 9542 Münchwilen'), ('Münsingen', 'Bahnhofplatz 5, 3110 Münsingen'), ('Naters', 'Kelchbachstrasse 16, 3904 Naters'), ('Neuenhof', 'Zürcherstrasse 113, 5432 Neuenhof'), ('Neuenkirch', 'Luzernstrasse 16, 6206 Neuenkirch'), ('Neunkirch', 'Löhningerstrasse 4, 8213 Neunkirch'), ('Neydens (F)', '500, route des Envignes 74, 74 160 Neydens'), ('Neyruz', 'Place de la Gare 10, 1740 Neyruz FR'), ('Nidau', 'Lyssstrasse 15, 2560 Nidau'), ('Niederhasli', 'Dorfstrasse 20, 8155 Niederhasli'), ('Niederurnen', 'Ziegelbrückstrasse 21, 8867 Niederurnen'), ('Noville', 'Route du Simplon, 1845 Noville'), ('Nussbaumen - Markthof', 'Schulstrasse 2, 5415 Nussbaumen b.Baden'), ('Nyon - La Combe', 'Rue de la Morâche 6, 1260 Nyon'), ('Nyon - Porte de Nyon', 'chemin de la Fontaine 1, 1260 Nyon'), ('Näfels', 'Oberdorf 44, 8752 Näfels'), ('Oberengstringen', 'Im Zentrum 2, 8102 Oberengstringen'), ('Oberglatt', 'Lägernstrasse 6, 8154 Oberglatt ZH'), ('Oberkirch', 'Luzernstrasse 36, 6208 Oberkirch LU'), ('Oberriet', 'Staatsstrasse 56, 9463 Oberriet SG'), ('Oberwil', 'Mühlemattstrasse 18, 4104 Oberwil BL'), ('Oensingen', 'Mühlefeldstrasse 53, 4702 Oensingen'), ('Oftringen', 'Zürichstrasse 2, 4665 Oftringen'), ('Olten - Hammer', 'Solothurnerstrasse 21, 4600 Olten'), ('Olten - Sälipark', 'Louis Giroud-Strasse 20, 4600 Olten'), ('Opfikon - Glattpark', 'Thurgauerstrasse 106, 8152 Opfikon'), ('Orbe', 'Rue des Terreaux 22, 1350 Orbe'), ('Orbe Gruvatiez', 'Route des Granges-Martin 22, 1350 Orbe'), ('Oron-la-Ville', 'Route de Lausanne 2, 1610 Oron-la-Ville'), ('Ostermundigen', 'Bernstrasse 114, 3072 Ostermundigen'), ('Ostermundigen Poststrasse', 'Poststr. 1, 3072 Ostermundigen 1'), ('Payerne', 'Rue du Temple 19, 1530 Payerne'), ('Peseux', 'Rue Jämes-Paris 4, 2034 Peseux'), ('Pfungen', 'Weiacherstrasse 1, 8422 Pfungen'), ('Pfäffikon - Seedammcenter', 'Gwattstrasse 11, 8808 Pfäffikon SZ'), ('Pfäffikon ZH', 'Turmstrasse 9, 8330 Pfäffikon ZH'), ('Plaffeien', 'Obere Matte 9, 1716 Plaffeien'), ('Plan-les-Ouates', 'Route de Saint-Julien 176, 1228 Plan-les-Ouates'), ('Pontaise', 'Avenue Jomini 11, 1018 Lausanne'), ('Popup - Openair Frauenfeld', 'Allmend, 8500 Frauenfeld'), ('Porrentruy', 'Faubourg St Germain 2, 2900 Porrentruy'), ('Porte de Versoix', \"Chemin de l'ancien péage 1, 1290 Versoix\"), ('Portes-Rouges', 'Avenue des Portes-Rouges 46, 2000 Neuchâtel'), ('Pratteln', 'Burggartenstrasse 21, 4133 Pratteln'), ('Pratteln-Gehrenacker', 'Gehrenackerstrasse 7, 4133 Pratteln'), ('Pregassona', 'Via alla Bozzoreda 39, 6963 Pregassona'), ('Prilly', 'Route de Cossonay 9, 1008 Prilly'), ('Prilly - Malley', 'Chemin du Viaduc 1, 1008 Prilly'), ('Préverenges', 'Chemin du Vuasset 2, 1028 Préverenges'), ('Puidoux', 'Chemin de Publoz 11, 1070 Puidoux'), ('Pully', 'Chemin du Pré-de-la-Tour 3, 1009 Pully'), ('Pérolles Centre', 'Boulevard de Pérolles 21 A, 1700 Fribourg'), ('Rain', 'Gääli 6, 6026 Rain'), ('Ramsen', 'Petersburg 416, 8262 Ramsen'), ('Rapperswil - Sonnenhof', 'Zürcherstrasse 4, 8640 Rapperswil SG'), ('Rapperswil - Zentrum', 'Untere Bahnhofstrasse 19, 8640 Rapperswil SG'), ('Rebstein', 'Staatsstrasse 128, 9445 Rebstein'), ('Regensdorf - Zentrum', 'Zentrum 1, 8105 Regensdorf'), ('Reichenburg', 'Gewerbestrasse 4, 8864 Reichenburg'), ('Reiden', 'Hauptstrasse 52, 6260 Reiden'), ('Reinach - Mischeli', 'Niederbergstrasse 1, 4153 Reinach BL'), ('Reinach - Zentrum', 'Herrenweg 11, 4153 Reinach BL'), ('Reinach AG', 'Sandgasse 6, 5734 Reinach AG'), ('Renens - Florissant', 'Avenue de Florissant 38, 1020 Renens VD'), ('Renens - Métropole', 'Rue de la Mèbre 9, 1020 Renens VD'), ('Renens Quai Ouest', \"Avenue d'Epenex 4c, 1020 Renens VD\"), ('Renens Silo', 'Rue du Silo 11, 1020 Renens'), ('Rheineck', 'Rhyguetstrasse 2, 9424 Rheineck'), ('Rheinfelden', 'Lindenstrasse 3, 4310 Rheinfelden'), ('Riazzino', 'Via Cantonale 40, 6595 Riazzino'), ('Richterswil', 'Schützengass 4, 8805 Richterswil'), ('Riehen - Dorf', 'Rössligasse/Webergässchen 8, 4125 Riehen'), ('Riehen - Grenzacherweg', 'Grenzacherweg 81, 4125 Riehen'), ('Riehen - Niederholz', 'Gotenstrasse 84, 4125 Riehen'), ('Rolle', 'Av. de la Gare 17, 1180 Rolle'), ('Romanel-sur-Lausanne', 'En Félezin, 1032 Romanel-s-Lausanne'), ('Romanshorn - Hubzelg', 'Bahnhofstrasse 54a, 8590 Romanshorn'), ('Romont', 'Avenue de la Gare 7, 1680 Romont FR'), ('Root', 'Bahnhofstrasse 11b, 6037 Root'), ('Rorschach - Promenade', 'Promenadenstrasse 83, 9400 Rorschach'), ('Rorschach - Trischliplatz', 'Trischlistrasse 15, 9400 Rorschach'), ('Rothrist', 'Neue Aarburgstrasse 20, 4852 Rothrist'), ('Rotkreuz', 'Buonaserstrasse 1, 6343 Rotkreuz'), ('Rougemont', 'Rue du village 20, 1659 Rougemont'), ('Ruopigen Zentrum Luzern', 'Ruopigeplatz, 6015 Luzern'), ('Ruswil', 'Rüediswilerstrasse 79, 6017 Ruswil'), ('Réchy', 'Place Pranniviers 8, 3966 Réchy'), ('Rümlang Hofwisencenter', 'Hofwisenstrasse 40A, 8153 Rümlang'), ('Rüschlikon Parkside', 'Zürcherstrasse 4, 8803 Rüschlikon'), ('Rüti ZH', 'Bandwiesstrasse 6, 8630 Rüti ZH'), ('Saas Fee', 'Hôtel du Glacier, 3906 Saas Fee'), ('Saignelégier', 'Rue de la Gruère 23, 2350 Saignelégier'), ('Sainte-Croix', \"Rue de l'Industrie 21, 1450 Ste-Croix\"), ('Samedan', 'Cho d`Punt 10, 7503 Samedan'), ('Sarnen - Sarnen-Center', 'Nelkenstrasse 5, 6060 Sarnen'), ('Savièse', 'Centre Commercial du Stade, 1965 Savièse'), ('Saxon', 'Rue de Gottefrey 38, 1907 Saxon'), ('Schaan', 'Im Rösle 2, 9494 Schaan'), ('Schaffhausen - Breite', 'Hohlenbaumstrasse 79, 8200 Schaffhausen'), ('Schaffhausen - Buchthalen', 'Dürstlingweg 2, 8203 Schaffhausen'), ('Schaffhausen - Herblinger Markt', 'Stüdliackerstrasse 4, 8207 Schaffhausen'), ('Schaffhausen - Vorstadt', 'Bahnhofstrasse 56/58, 8200 Schaffhausen'), ('Schindellegi', 'Pfäffikonerstrasse 19, 8834 Schindellegi'), ('Schlieren - Kesslerplatz', 'Badenerstrasse 57, 8952 Schlieren'), ('Schlieren - Rietbach', 'Rietbachstrasse 14, 8952 Schlieren'), ('Schlieren - Zentrum', 'Güterstrasse 5, 8952 Schlieren'), ('Schoenberg', 'Chemin Cité-des-Jardins 13A, 1700 Fribourg'), ('Schwarzenburg', 'Freiburgstrasse 5b, 3150 Schwarzenburg'), ('Schöftland', 'Picardiestrasse 3, 5040 Schöftland'), ('Schönbühl - Shoppyland', 'Industriestrasse 10, 3321 Schönbühl EKZ'), ('Schönenwerd', 'C.F. Ballystrasse 14, 5012 Schönenwerd'), ('Schüpfheim', 'Vormüli 1, 6170 Schüpfheim'), ('Sembrancher', 'Rue de la Chapalette 1, 1933 Sembrancher'), ('Sementina', 'via al Ticino 28, 6514 Sementina'), ('Sempach Station', 'Mettenwilstrasse 11, 6203 Sempach Station'), ('Seon', 'Unterdorfstrasse 21, 5703 Seon'), ('Seuzach', 'Winterthurerstrasse 5, 8472 Seuzach'), ('Sierre', 'Avenue Général Guisan, 3960 Sierre'), ('Sierre Rossfeld', 'Rte des Lacustres, 3960 Sierre'), ('Sion - Le Ritz', 'Avenue Ritz 31, 1950 Sion'), ('Sion - Métropole', 'Avenue de France 14-20, 1950 Sion'), ('Sion - Tourbillon Center', 'Avenue Grand-Champsec 30, 1950 Sion'), ('Sirnach', 'Winterthurerstrasse 27, 8370 Sirnach'), ('Sissach', 'Hauptstrasse 17, 4450 Sissach'), ('Solothurn', 'Wengistrasse 13, 4500 Solothurn'), ('Solothurn Baselstrasse', 'Baselstrasse 30/32, 4500 Solothurn'), ('Solothurn Öufi', 'Bielstrasse 80, 4500 Solothurn'), ('Spiez - Terminus', 'Bahnhofstrasse, 3700 Spiez'), ('Spreitenbach', 'Shopping-Center, 8957 Spreitenbach'), ('Spreitenbach - Tivoli', 'Shoppi Tivoli, 8957 Spreitenbach'), ('St-Imier', 'Rue Baptiste-Savoye 62, 2610 St-Imier'), ('St-Maurice', 'Av. du Simplon 15, 1890 St-Maurice'), ('St. Gallen - Bruggen', 'Fürstenlandstrasse 157, 9014 St. Gallen'), ('St. Gallen - Lachen', 'Ulmenstrasse 11, 9000 St. Gallen'), ('St. Gallen - Langgasse', 'Langgasse 20, 9008 St. Gallen'), ('St. Gallen - Neudorf', 'Rorschacherstrasse 249, 9016 St. Gallen'), ('St. Gallen - Neumarkt', 'St. Leonhardstrasse 35, 9000 St. Gallen'), ('St. Gallen - Silberturm', 'Rorschacherstrasse 150, 9006 St. Gallen'), ('St. Gallen - Spisermarkt', 'Brühlgasse 28, 9000 St. Gallen'), ('St. Gallen - St. Fiden', 'Bachstrasse 29, 9008 St. Gallen'), ('St. Margrethen - Rheinpark', 'Neudorfstrasse 60, 9430 St. Margrethen SG'), ('St. Niklaus', 'Eyastrasse 1, 3924 St. Niklaus VS'), ('Stalden', 'Zum Marktplatz, 3922 Stalden VS'), ('Stans - Länderpark', 'Bitzistrasse 2, 6370 Stans'), ('Ste-Thérèse', 'Route de Sainte-Thérèse 2a, 1700 Fribourg'), ('Steckborn', 'Im Feldbach 1b, 8266 Steckborn'), ('Steffisburg', 'Oberdorfstrasse 33, 3612 Steffisburg'), ('Steffisburg Unterdorf', 'Unterdorfstrasse 10, 3612 Steffisburg'), ('Steg', 'Bahnhofstrasse, 3940 Steg VS'), ('Stein', 'Schaffhauserstrasse 61, 4332 Stein AG'), ('Stein am Rhein', 'Kaltenbacherstrasse 41, 8260 Stein am Rhein'), ('Steinhausen - Zugerland', 'Hinterbergstrasse 40, 6312 Steinhausen'), ('Steinhausen Dorf', 'Bahnhofstrasse 2, 6312 Steinhausen'), ('Stäfa', 'Goethestrasse 18, 8712 Stäfa'), ('Suhr Suhrepark', 'Bernstrasse Ost 52, 5034 Suhr'), ('Sulgen - Passerelle', 'Hauptstrasse 3, 8583 Sulgen'), ('Surseepark', 'Bahnhofstrasse 28, 6210 Sursee'), ('Susten', 'Sustenstrasse 5, 3952 Susten'), ('Taesch', 'Neue Kantonstrasse, 3929 Täsch'), ('Tavannes', 'Rue de Pierre-Pertuis 11, 2710 Tavannes'), ('Taverne', 'Via Cantonale, 6807 Taverne'), ('Tenero', 'Via al Giardino, 6598 Tenero'), ('Tesserete', 'Via Luigi Canonica 40, 6950 Tesserete'), ('Teufen', 'Speicherstrasse 8, 9053 Teufen AR'), ('Thal', 'Wiesentalstrasse 4, 9425 Thal'), ('Thalwil', 'Alte Landstrasse 130, 8800 Thalwil'), ('Thayngen', 'Biberstrasse 30, 8240 Thayngen'), ('Thierrens', 'Rue du Collège 6, 1410 Thierrens'), ('Thoiry (F)', 'CC Val Thoiry, 01710 Thoiry'), ('Thun - Bälliz', 'Bälliz 2, 3600 Thun'), ('Thun - Dürrenast', 'Frutigenstrasse 60, 3604 Thun'), ('Thun - Oberland', 'Talackerstrasse 62, 3604 Thun'), ('Thun - Panorama Center', 'Weststrasse 14, 3604 Thun'), ('Thusis - im Park', 'Im Park, 7430 Thusis'), ('Thônex', 'Rue de Genève 92, 1226 Thônex'), ('Tramelan', 'Rue Albert-Gobat 1, 2720 Tramelan'), ('Triesen', 'Landstrasse 251, 9495 Triesen'), ('Turbenthal', 'Tösstalstrasse 54, 8488 Turbenthal'), ('Tägerwilen', 'Hauptstrasse 117, 8274 Tägerwilen'), ('Uetendorf', 'Dorfstrasse 21, 3661 Uetendorf'), ('Uitikon-Waldegg', 'Zürcherstrasse 8, 8142 Uitikon Waldegg'), ('Unterentfelden', 'Binzmattweg 8, 5035 Unterentfelden'), ('Unterwetzikon', 'Hofstrasse 47, 8620 Wetzikon ZH'), ('Unterägeri', 'Zugerstrasse 32, 6314 Unterägeri'), ('Urdorf - Spitzacker', 'Birmensdorferstrasse 87, 8902 Urdorf'), ('Uster - Illuster', 'Zürichstrasse 20, 8610 Uster'), ('Uster-West', 'Winterthurerstrasse 18, 8610 Uster'), ('Utzenstorf - Linde', 'Hauptstrasse 29, 3427 Utzenstorf'), ('Uznach - Frohsinn', 'Zürcherstrasse 25, 8730 Uznach'), ('Uzwil - Birkenhof', 'Lindenstrasse 5, 9240 Uzwil'), ('VOI Aarburg', 'Bahnhofstrasse 59, 4663 Aarburg'), ('VOI Aarwangen', 'Langenthalstrasse 44, 4912 Aarwangen'), ('VOI Alpnach', 'Brünigstrasse 29, 6055 Alpnach Dorf'), ('VOI Baden - Mellingerstrasse', 'Mellingerstrasse 142, 5400 Baden'), ('VOI Bellevue', 'Chemin des Romelles 17, 1293 Bellevue'), ('VOI Bern - Fellergut', 'Mühledorfstrasse 15, 3018 Bern'), ('VOI Bern - Fischermätteli', 'Könizstrasse 60, 3008 Bern'), ('VOI Bern - Kramgasse', 'Kramgasse 54, 3011 Bern'), ('VOI Bern - Schosshalde', 'Schossshaldenstrasse 16, 3006 Bern'), ('VOI Bern - Spiegel', 'Chasseralstrasse 156, 3095 Spiegel b. Bern'), ('VOI Bern - Viktoriastrasse', 'Viktoriastrasse 49, 3013 Bern'), ('VOI Bern Warmbächli', 'Holligerplatz 1, 3008 Bern'), ('VOI Beromünster', 'Aargauerstrasse 16, 6215 Beromünster'), ('VOI Bettlach', 'Dorfstrasse 12, 2544 Bettlach'), ('VOI Biel - Jardin du Paradis', 'Jakob-Stämpflistrasse 112, 2502 Biel/Bienne'), ('VOI Biel - Mett', 'Schollstrasse 2, 2504 Biel/Bienne'), ('VOI Boll', 'Kernstrasse 9, 3067 Boll'), ('VOI Brügg', 'Hauptstrasse 17, 2555 Brügg BE'), ('VOI Buchs ZH', 'Meierwiesenstrasse 20, 8107 Buchs ZH'), ('VOI Büron', 'Sagipark 7, 6233 Büron'), ('VOI Dulliken', 'Grundstrasse 1, 4657 Dulliken'), ('VOI Genève-Cirque', 'Place du Cirque 2, 1204 Genève'), ('VOI Geroldswil', 'Huebwiesenstrasse 26b, 8954 Geroldswil'), ('VOI Gland', 'Rue du Borgeaud 10d, 1196 Gland'), ('VOI Grindelwald', 'Dorfstrasse 155, 3818 Grindelwald'), ('VOI Horgen', 'Seestrasse 288, 8810 Horgen'), ('VOI Ins', 'Moosgasse 7, 3232 Ins'), ('VOI Jegenstorf', 'Solothurnstrasse 24, 3303 Jegenstorf'), ('VOI Kappel', 'Mittelgäustrasse 22, 4616 Kappel SO'), ('VOI Kilchberg', 'Bahnhofstrasse 3, 8802 Kilchberg ZH'), ('VOI Lengnau', 'Bielstrasse 35, 2543 Lengnau BE'), ('VOI Luzern Wesemlin', 'Abendweg 46, 6006 Luzern'), ('VOI Meyrin - Les Vergers', '3, place de la Diversité, 1217 Meyrin'), ('VOI Niederbipp', 'Wydenstrasse 9, 4704 Niederbipp'), ('VOI Niedergösgen', 'Aarestrasse 49, 5013 Niedergösgen'), ('VOI Niederlenz', 'Lenzburgerstrasse 2, 5702 Niederlenz'), ('VOI Niederrohrdorf', 'Moosstrasse 2, 5443 Niederrohrdorf'), ('VOI Roggwil', 'Dorfstrasse 19, 4914 Roggwil BE'), ('VOI Rombach', 'Bibersteinstrasse 4, 5022 Rombach'), ('VOI Rümlang', 'Lindenstrasse 16, 8153 Rümlang'), ('VOI Safenwil', 'Güterstrasse 1A, 5745 Safenwil'), ('VOI Schwerzenbach', 'Bahnstrasse 14, 8603 Schwerzenbach'), ('VOI Seengen', 'Unterdorfstrasse 7a, 5707 Seengen'), ('VOI Sempach Stadt', 'Oberstadt 6, 6204 Sempach Stadt'), ('VOI Siebnen', 'Glarnerstrasse 36, 8854 Siebnen'), ('VOI Stans', 'Marktgasse 2, 6370 Stans'), ('VOI Steffisburg', 'Bahnhofstrasse 87, 3613 Steffisburg'), ('VOI Strengelbach', 'Langenthalerstrasse 1, 4802 Strengelbach'), ('VOI Studen', 'Hauptstrasse 65, 2557 Studen'), ('VOI Sumiswald', 'Spitalstrasse 10, 3454 Sumiswald'), ('VOI Trimbach', 'Chäppeligasse 5, 4632 Trimbach'), ('VOI Unterkulm', 'Böhlerstrasse 2, 5726 Unterkulm'), ('VOI Viganello', 'alla Chiesa 2, 6962 Viganello'), ('VOI Wabern', 'Seftigenstrasse 259, 3084 Wabern'), ('VOI Wallisellen', 'Schäfligrabenstrasse 45, 8304 Wallisellen'), ('VOI Wangen a. Aare', 'Vorstadt 14, 3380 Wangen an der Aare'), ('VOI Wichtrach', 'Dorfplatz 1, 3114 Wichtrach'), ('VOI Wilderswil', 'Hauptstrasse 27, 3812 Wilderswil'), ('VOI Zollbrück', 'Langnaustr. 16, 3436 Zollbrück'), ('VOI Zürich - Grünau', 'Grünauring 37, 8064 Zürich'), ('VOI Zürich - Hönggerstrasse', 'Hönggerstrasse 117, 8037 Zürich'), ('VOI Zürich - In der Ey', 'Letzigraben 239, 8047 Zürich'), ('VOI Zürich - Leimbach', 'Ankenweid 10, 8041 Zürich'), ('VOI Zürich - Paradies', 'Paradiesstrasse 3, 8038 Zürich'), ('VOI Zürich - Witikon', 'Loorenstrasse 35, 8053 Zürich'), ('Vallorbe', 'Grand-Rue 23, 1337 Vallorbe'), ('Verbier', 'Les Arcades, 1936 Verbier'), ('Vernier - Arcenter', 'Route de Peney 2-4, 1214 Vernier'), ('Vevey - Midi Coindet', 'Av. Gustave Coindet 11, 1800 Vevey'), ('Vevey Des 2 Gares', 'Rue des Moulins 5 b, 1800 Vevey'), ('Villars', 'Rue Centrale 99, 1884 Villars-sur-Ollon'), ('Villmergen', 'Schulhausstrasse 2, 5612 Villmergen'), ('Vionnaz', 'Route du Léman 33, 1895 Vionnaz'), ('Visp', 'Brückenweg 10, 3930 Visp'), ('Volketswil', 'Im Zentrum 18, 8604 Volketswil'), ('Vétroz', 'Rue de la Lizerne 7, 1963 Vétroz'), ('Wabern - Chly Wabere', 'Seftigenstrasse 368, 3084 Wabern'), ('Wald ZH', 'Bahnhofstrasse 20, 8636 Wald ZH'), ('Walenstadt', 'Bahnhofstrasse 27, 8880 Walenstadt'), ('Wallisellen', 'Bahnhofstrasse 30, 8304 Wallisellen'), ('Wallisellen - Glattzentrum', 'Neue Winterthurerstrasse 99, 8304 Wallisellen'), ('Wattwil', 'Bahnhofstrasse 19, 9630 Wattwil'), ('Weggis', 'Luzernerstrasse 44, 6353 Weggis'), ('Weinbergli Luzern', 'Tribschenstrasse 62, 6005 Luzern'), ('Weinfelden - Rösslifelsen', 'Amriswilerstrasse 12, 8570 Weinfelden'), ('Weinfelden Weststrasse', 'Weststrasse 27/29, 8570 Weinfelden'), ('Wettingen - Landstrasse', 'Landstrasse 69, 5430 Wettingen'), ('Wetzikon - Züri-Oberland-Märt', 'Bahnhofstrasse 151, 8620 Wetzikon ZH'), ('Widnau - Rhydorf-Center', 'Bahnhofstrasse 2, 9443 Widnau'), ('Wil SG', 'Obere Bahnhofstrasse 5, 9500 Wil SG'), ('Wildegg', 'Bruggerstrasse 11 c, 5103 Wildegg'), ('Willisau - Chrüzhof', 'Ettiswilerstrasse 14, 6130 Willisau'), ('Windisch', 'Bachmattstrasse 35, 5210 Windisch'), ('Winterthur - Blumenau', 'Wülflingerstrasse 71, 8400 Winterthur'), ('Winterthur - Deutweg', 'Pflanzschulstrasse 9, 8400 Winterthur'), ('Winterthur - Hegi', 'Hintermühlenstrasse 4, 8409 Winterthur'), ('Winterthur - Neuwiesen', 'Strickerstrasse 3, 8400 Winterthur'), ('Winterthur - Obertor', 'Stadthausstrasse 31, 8400 Winterthur'), ('Winterthur - Oberwinterthur', 'Guggenbühlstrasse 1, 8404 Winterthur'), ('Winterthur - Rosenberg', 'Schaffhauserstrasse 154, 8400 Winterthur'), ('Winterthur - Seen', 'Hinterdorfstrasse 40, 8405 Winterthur'), ('Winterthur - Töss', 'Zürcherstrasse 102, 8406 Winterthur'), ('Winterthur - Wülflingen', 'Lindenplatz 1, 8408 Winterthur'), ('Wittenbach', 'Oedenhof 1c, 9300 Wittenbach'), ('Wohlen', 'Bahnhofstrasse 7, 5610 Wohlen AG'), ('Wolhusen - Dorfmärt', 'Entlebucherstr. 36, 6110 Wolhusen'), ('Wollerau Märt Roospark', 'Roosstrasse 23, 8832 Wollerau'), ('Worb', 'Richigenstrasse 1, 3076 Worb'), ('Wylpark Hergiswil', 'Seestrasse 43, 6052 Hergiswil NW'), ('Wädenswil', 'Oberdorfstrasse 27-31, 8820 Wädenswil'), ('Wädenswil Zürisee Center', 'Rütistrasse 1, 8820 Wädenswil'), ('Yverdon - Métropole', 'Rue de Neuchâtel 3, 1400 Yverdon-les-Bains'), ('Yverdon Sud', 'Rue de Lausanne 10, 1400 Yverdon-les-Bains'), ('Yvonand', 'Rue des Vergers, 1462 Yvonand'), ('Zell', 'Zelgmatte 2, 6144 Zell LU'), ('Zermatt', 'Hofmattstrasse 12, 3920 Zermatt'), ('Zofingen', 'Aarburgerstrasse 5, 4800 Zofingen'), ('Zollikofen', 'Bernstrasse 103, 3052 Zollikofen'), ('Zollikon - Dorf', 'Rotfluhstrasse 100, 8702 Zollikon'), ('Zollweiden', 'Baselstrasse 71, 4142 Münchenstein'), ('Zuchwil', 'Hauptstrasse 60-62, 4528 Zuchwil'), ('Zug - Grabenstrasse', 'Grabenstrasse 5, 6300 Zug'), ('Zug - Metalli', 'Baarerstrasse 22, 6300 Zug'), ('Zug Herti', 'Hertizentrum 10, 6300 Zug'), ('Zumikon', 'Dorfstrasse 17, 8126 Zumikon'), ('Zuzwil', 'Herbergstrasse 17, 9524 Zuzwil SG'), ('Zweisimmen', 'Thunstrasse 11, 3770 Zweisimmen'), ('Zürich - Affoltern', 'Jonas-Furrer-Strasse 21, 8046 Zürich'), ('Zürich - Airport', 'Flughafen Zürich AG, 8058 Zürich - Flughafen'), ('Zürich - Albisriederplatz', 'Badenerstrasse 376, 8004 Zürich'), ('Zürich - Albisriederstrasse', 'Albisriederstrasse 253, 8047 Zürich'), ('Zürich - Altstetten M-Express', 'Hohlstrasse 600, 8048 Zürich'), ('Zürich - Altstetten Neumarkt', 'Altstetterstrasse 145, 8048 Zürich'), ('Zürich - Bahnhof Enge', 'Tessinerplatz 10, 8002 Zürich'), ('Zürich - Brunaupark', 'Giesshübelstrasse 65, 8045 Zürich'), ('Zürich - Burgwies', 'Forchstrasse 260, 8008 Zürich'), ('Zürich - City', 'Löwenstrasse 31-35, 8001 Zürich'), ('Zürich - HB Sihlquai', 'Sihlpassage, 8004 Zürich'), ('Zürich - Hauptbahnhof', 'Hauptbahnhof, 8001 Zürich'), ('Zürich - Herdern', 'Pfingstweidstrasse 101, 8005 Zürich'), ('Zürich - Höngg', 'Regensdorferstrasse 20, 8049 Zürich'), ('Zürich - Höschgasse', 'Seefeldstrasse 111-113, 8008 Zürich'), ('Zürich - Kreuzplatz', 'Kreuzplatz 20, 8008 Zürich'), ('Zürich - Leimbach Sihlbogen', 'Leimbachstrasse 23, 8041 Zürich'), ('Zürich - Limmatplatz', 'Limmatstrasse 152, 8005 Zürich'), ('Zürich - Oerlikon Neumarkt', 'Hofwiesenstrasse 350-354, 8050 Zürich'), ('Zürich - Puls 5 M-Express', 'Hardturmstrasse 11, 8005 Zürich'), ('Zürich - Pünt', 'Albisriederstrasse 365, 8047 Zürich'), ('Zürich - Rigiplatz', 'Winterthurerstrasse 2-4, 8006 Zürich'), ('Zürich - Schaffhauserplatz', 'Schaffhauserstrasse 75, 8057 Zürich'), ('Zürich - Schmiede Wiedikon', 'Birmensdorferstrasse 140, 8003 Zürich'), ('Zürich - Schwamendingen', 'Winterthurerstrasse 524, 8051 Zürich'), ('Zürich - Seebach', 'Schaffhauserstrasse 470, 8052 Zürich'), ('Zürich - ShopVilleMärt', 'Shop Ville, 8001 Zürich'), ('Zürich - Stadelhofen', 'Falkenstrasse 19 - 21, 8008 Zürich'), ('Zürich - Stockerstrasse M-Express', 'Stockerstrasse 47, 8002 Zürich'), ('Zürich - Toblerplatz', 'Toblerstrasse 73, 8044 Zürich'), ('Zürich - Wengihof', 'Wengistrasse 7, 8004 Zürich'), ('Zürich - Wiedikon M-Märt', 'Birmensdorferstrasse 320, 8055 Zürich'), ('Zürich - Wipkingen', 'Scheffelstrasse 3, 8037 Zürich'), ('Zürich - Witikon-Zentrum', 'Witikonerstrasse 293, 8053 Zürich'), ('Zürich - Wollishofen', 'Etzelstrasse 3, 8038 Zürich'), ('teo Bürglen', 'Weinfelderstrasse 33a, 8575 Bürglen'), ('teo Kloten', 'Lindenstrasse 18, 8302 Kloten'), ('teo Neuhegi', 'Sulzerallee 54, 8404 Winterthur')])"
      ]
     },
     "execution_count": 148,
     "metadata": {},
     "output_type": "execute_result"
    }
   ],
   "source": [
    "store_dict.items()"
   ]
  },
  {
   "cell_type": "code",
   "execution_count": 151,
   "id": "d5de1bd7-7996-4ed7-b7de-fdcbbf8089b3",
   "metadata": {},
   "outputs": [
    {
     "data": {
      "text/html": [
       "<div>\n",
       "<style scoped>\n",
       "    .dataframe tbody tr th:only-of-type {\n",
       "        vertical-align: middle;\n",
       "    }\n",
       "\n",
       "    .dataframe tbody tr th {\n",
       "        vertical-align: top;\n",
       "    }\n",
       "\n",
       "    .dataframe thead th {\n",
       "        text-align: right;\n",
       "    }\n",
       "</style>\n",
       "<table border=\"1\" class=\"dataframe\">\n",
       "  <thead>\n",
       "    <tr style=\"text-align: right;\">\n",
       "      <th></th>\n",
       "      <th>name</th>\n",
       "      <th>address</th>\n",
       "    </tr>\n",
       "  </thead>\n",
       "  <tbody>\n",
       "    <tr>\n",
       "      <th>0</th>\n",
       "      <td>Aachtal</td>\n",
       "      <td>Schrofenstrasse 19, 8580 Amriswil</td>\n",
       "    </tr>\n",
       "    <tr>\n",
       "      <th>1</th>\n",
       "      <td>Aadorf</td>\n",
       "      <td>Bahnhofstrasse 2, 8355 Aadorf</td>\n",
       "    </tr>\n",
       "    <tr>\n",
       "      <th>2</th>\n",
       "      <td>Aarau - Igelweid</td>\n",
       "      <td>Igelweid 18, 5000 Aarau</td>\n",
       "    </tr>\n",
       "    <tr>\n",
       "      <th>3</th>\n",
       "      <td>Aarau Bahnhof</td>\n",
       "      <td>Bahnhofplatz 3h, 5000 Aarau</td>\n",
       "    </tr>\n",
       "    <tr>\n",
       "      <th>4</th>\n",
       "      <td>Abtwil - Säntispark</td>\n",
       "      <td>Wiesenbachstrasse 7, 9030 Abtwil SG</td>\n",
       "    </tr>\n",
       "    <tr>\n",
       "      <th>...</th>\n",
       "      <td>...</td>\n",
       "      <td>...</td>\n",
       "    </tr>\n",
       "    <tr>\n",
       "      <th>766</th>\n",
       "      <td>Zürich - Witikon-Zentrum</td>\n",
       "      <td>Witikonerstrasse 293, 8053 Zürich</td>\n",
       "    </tr>\n",
       "    <tr>\n",
       "      <th>767</th>\n",
       "      <td>Zürich - Wollishofen</td>\n",
       "      <td>Etzelstrasse 3, 8038 Zürich</td>\n",
       "    </tr>\n",
       "    <tr>\n",
       "      <th>768</th>\n",
       "      <td>teo Bürglen</td>\n",
       "      <td>Weinfelderstrasse 33a, 8575 Bürglen</td>\n",
       "    </tr>\n",
       "    <tr>\n",
       "      <th>769</th>\n",
       "      <td>teo Kloten</td>\n",
       "      <td>Lindenstrasse 18, 8302 Kloten</td>\n",
       "    </tr>\n",
       "    <tr>\n",
       "      <th>770</th>\n",
       "      <td>teo Neuhegi</td>\n",
       "      <td>Sulzerallee 54, 8404 Winterthur</td>\n",
       "    </tr>\n",
       "  </tbody>\n",
       "</table>\n",
       "<p>771 rows × 2 columns</p>\n",
       "</div>"
      ],
      "text/plain": [
       "                         name                              address\n",
       "0                     Aachtal    Schrofenstrasse 19, 8580 Amriswil\n",
       "1                      Aadorf        Bahnhofstrasse 2, 8355 Aadorf\n",
       "2            Aarau - Igelweid              Igelweid 18, 5000 Aarau\n",
       "3               Aarau Bahnhof          Bahnhofplatz 3h, 5000 Aarau\n",
       "4         Abtwil - Säntispark  Wiesenbachstrasse 7, 9030 Abtwil SG\n",
       "..                        ...                                  ...\n",
       "766  Zürich - Witikon-Zentrum    Witikonerstrasse 293, 8053 Zürich\n",
       "767      Zürich - Wollishofen          Etzelstrasse 3, 8038 Zürich\n",
       "768               teo Bürglen  Weinfelderstrasse 33a, 8575 Bürglen\n",
       "769                teo Kloten        Lindenstrasse 18, 8302 Kloten\n",
       "770               teo Neuhegi      Sulzerallee 54, 8404 Winterthur\n",
       "\n",
       "[771 rows x 2 columns]"
      ]
     },
     "execution_count": 151,
     "metadata": {},
     "output_type": "execute_result"
    }
   ],
   "source": [
    "migros_df = pd.DataFrame(store_dict.items(),columns=['name','address'])\n",
    "migros_df"
   ]
  },
  {
   "cell_type": "code",
   "execution_count": 157,
   "id": "5bee61d6-e780-46c4-91ed-b1183a33572f",
   "metadata": {},
   "outputs": [],
   "source": [
    "def get_zip_code(address):\n",
    "    address_list=address.split(', ')\n",
    "    zip_code = address_list[-1].split()[0]\n",
    "    return zip_code"
   ]
  },
  {
   "cell_type": "code",
   "execution_count": 158,
   "id": "c44282aa-2f03-4d8d-ae8c-bf5827bdbae4",
   "metadata": {},
   "outputs": [],
   "source": [
    "migros_df['zip_code']=migros_df['address'].apply(get_zip_code)"
   ]
  },
  {
   "cell_type": "code",
   "execution_count": 159,
   "id": "fcd2a688-1600-4624-beb5-eeac86a6923b",
   "metadata": {},
   "outputs": [],
   "source": [
    "migros_df.to_csv('test.csv')"
   ]
  },
  {
   "cell_type": "code",
   "execution_count": 185,
   "id": "37af6265-fd53-4961-abd4-79e9d5cb0139",
   "metadata": {},
   "outputs": [
    {
     "data": {
      "text/plain": [
       "pandas.core.frame.DataFrame"
      ]
     },
     "execution_count": 185,
     "metadata": {},
     "output_type": "execute_result"
    }
   ],
   "source": [
    "zipcode_count_df = migros_df.groupby('zip_code').count().reset_index(names=['zip_code'])\n",
    "\n",
    "zipcode_count_df.drop(columns=['address'],inplace=True)\n",
    "zipcode_count_df.rename(columns={'name':'store_count'},inplace=True)\n",
    "zipcode_count_df = zipcode_count_df.astype('int64')\n",
    "type(zipcode_count_df)"
   ]
  },
  {
   "cell_type": "code",
   "execution_count": 190,
   "id": "c420501c-e056-4962-adf1-cf382f1ab041",
   "metadata": {},
   "outputs": [],
   "source": [
    "zurich_migros = zipcode_count_df[(zipcode_count_df['zip_code']>=8000) & (zipcode_count_df['zip_code']<8100)]\n",
    "zurich_migros.to_csv('zurich_migros.csv')"
   ]
  },
  {
   "cell_type": "code",
   "execution_count": 189,
   "id": "97657eb9-d227-4a51-9851-4a0e1e9f46f2",
   "metadata": {},
   "outputs": [
    {
     "data": {
      "text/html": [
       "<div>\n",
       "<style scoped>\n",
       "    .dataframe tbody tr th:only-of-type {\n",
       "        vertical-align: middle;\n",
       "    }\n",
       "\n",
       "    .dataframe tbody tr th {\n",
       "        vertical-align: top;\n",
       "    }\n",
       "\n",
       "    .dataframe thead th {\n",
       "        text-align: right;\n",
       "    }\n",
       "</style>\n",
       "<table border=\"1\" class=\"dataframe\">\n",
       "  <thead>\n",
       "    <tr style=\"text-align: right;\">\n",
       "      <th></th>\n",
       "      <th>zip_code</th>\n",
       "      <th>store_count</th>\n",
       "    </tr>\n",
       "  </thead>\n",
       "  <tbody>\n",
       "    <tr>\n",
       "      <th>413</th>\n",
       "      <td>8001</td>\n",
       "      <td>3</td>\n",
       "    </tr>\n",
       "    <tr>\n",
       "      <th>414</th>\n",
       "      <td>8002</td>\n",
       "      <td>2</td>\n",
       "    </tr>\n",
       "    <tr>\n",
       "      <th>415</th>\n",
       "      <td>8003</td>\n",
       "      <td>1</td>\n",
       "    </tr>\n",
       "    <tr>\n",
       "      <th>416</th>\n",
       "      <td>8004</td>\n",
       "      <td>3</td>\n",
       "    </tr>\n",
       "    <tr>\n",
       "      <th>417</th>\n",
       "      <td>8005</td>\n",
       "      <td>4</td>\n",
       "    </tr>\n",
       "    <tr>\n",
       "      <th>418</th>\n",
       "      <td>8006</td>\n",
       "      <td>1</td>\n",
       "    </tr>\n",
       "    <tr>\n",
       "      <th>419</th>\n",
       "      <td>8008</td>\n",
       "      <td>4</td>\n",
       "    </tr>\n",
       "    <tr>\n",
       "      <th>420</th>\n",
       "      <td>8037</td>\n",
       "      <td>2</td>\n",
       "    </tr>\n",
       "    <tr>\n",
       "      <th>421</th>\n",
       "      <td>8038</td>\n",
       "      <td>2</td>\n",
       "    </tr>\n",
       "    <tr>\n",
       "      <th>422</th>\n",
       "      <td>8041</td>\n",
       "      <td>2</td>\n",
       "    </tr>\n",
       "    <tr>\n",
       "      <th>423</th>\n",
       "      <td>8044</td>\n",
       "      <td>1</td>\n",
       "    </tr>\n",
       "    <tr>\n",
       "      <th>424</th>\n",
       "      <td>8045</td>\n",
       "      <td>1</td>\n",
       "    </tr>\n",
       "    <tr>\n",
       "      <th>425</th>\n",
       "      <td>8046</td>\n",
       "      <td>1</td>\n",
       "    </tr>\n",
       "    <tr>\n",
       "      <th>426</th>\n",
       "      <td>8047</td>\n",
       "      <td>3</td>\n",
       "    </tr>\n",
       "    <tr>\n",
       "      <th>427</th>\n",
       "      <td>8048</td>\n",
       "      <td>2</td>\n",
       "    </tr>\n",
       "    <tr>\n",
       "      <th>428</th>\n",
       "      <td>8049</td>\n",
       "      <td>1</td>\n",
       "    </tr>\n",
       "    <tr>\n",
       "      <th>429</th>\n",
       "      <td>8050</td>\n",
       "      <td>1</td>\n",
       "    </tr>\n",
       "    <tr>\n",
       "      <th>430</th>\n",
       "      <td>8051</td>\n",
       "      <td>1</td>\n",
       "    </tr>\n",
       "    <tr>\n",
       "      <th>431</th>\n",
       "      <td>8052</td>\n",
       "      <td>1</td>\n",
       "    </tr>\n",
       "    <tr>\n",
       "      <th>432</th>\n",
       "      <td>8053</td>\n",
       "      <td>2</td>\n",
       "    </tr>\n",
       "    <tr>\n",
       "      <th>433</th>\n",
       "      <td>8055</td>\n",
       "      <td>1</td>\n",
       "    </tr>\n",
       "    <tr>\n",
       "      <th>434</th>\n",
       "      <td>8057</td>\n",
       "      <td>1</td>\n",
       "    </tr>\n",
       "    <tr>\n",
       "      <th>435</th>\n",
       "      <td>8058</td>\n",
       "      <td>1</td>\n",
       "    </tr>\n",
       "    <tr>\n",
       "      <th>436</th>\n",
       "      <td>8064</td>\n",
       "      <td>1</td>\n",
       "    </tr>\n",
       "  </tbody>\n",
       "</table>\n",
       "</div>"
      ],
      "text/plain": [
       "     zip_code  store_count\n",
       "413      8001            3\n",
       "414      8002            2\n",
       "415      8003            1\n",
       "416      8004            3\n",
       "417      8005            4\n",
       "418      8006            1\n",
       "419      8008            4\n",
       "420      8037            2\n",
       "421      8038            2\n",
       "422      8041            2\n",
       "423      8044            1\n",
       "424      8045            1\n",
       "425      8046            1\n",
       "426      8047            3\n",
       "427      8048            2\n",
       "428      8049            1\n",
       "429      8050            1\n",
       "430      8051            1\n",
       "431      8052            1\n",
       "432      8053            2\n",
       "433      8055            1\n",
       "434      8057            1\n",
       "435      8058            1\n",
       "436      8064            1"
      ]
     },
     "execution_count": 189,
     "metadata": {},
     "output_type": "execute_result"
    }
   ],
   "source": [
    "zurich_migros"
   ]
  },
  {
   "cell_type": "code",
   "execution_count": null,
   "id": "7947fd06-461b-4552-befd-28cb3a151986",
   "metadata": {},
   "outputs": [],
   "source": []
  }
 ],
 "metadata": {
  "kernelspec": {
   "display_name": "Python 3 (ipykernel)",
   "language": "python",
   "name": "python3"
  },
  "language_info": {
   "codemirror_mode": {
    "name": "ipython",
    "version": 3
   },
   "file_extension": ".py",
   "mimetype": "text/x-python",
   "name": "python",
   "nbconvert_exporter": "python",
   "pygments_lexer": "ipython3",
   "version": "3.10.11"
  }
 },
 "nbformat": 4,
 "nbformat_minor": 5
}
